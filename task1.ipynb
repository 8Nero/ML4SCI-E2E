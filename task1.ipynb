{
  "nbformat": 4,
  "nbformat_minor": 0,
  "metadata": {
    "colab": {
      "provenance": [],
      "gpuType": "T4"
    },
    "kernelspec": {
      "name": "python3",
      "display_name": "Python 3"
    },
    "language_info": {
      "name": "python"
    },
    "accelerator": "GPU"
  },
  "cells": [
    {
      "cell_type": "markdown",
      "source": [
        "# Common Task 1. Electron/photon classification"
      ],
      "metadata": {
        "id": "W13GdyxnDvyn"
      }
    },
    {
      "cell_type": "code",
      "source": [
        "#@title Download the dataset\n",
        "!wget -O photons.hdf5 https://cernbox.cern.ch/remote.php/dav/public-files/AtBT8y4MiQYFcgc/SinglePhotonPt50_IMGCROPS_n249k_RHv1.hdf5\n",
        "!wget -O electrons.hdf5 https://cernbox.cern.ch/remote.php/dav/public-files/FbXw3V4XNyYB3oA/SingleElectronPt50_IMGCROPS_n249k_RHv1.hdf5"
      ],
      "metadata": {
        "colab": {
          "base_uri": "https://localhost:8080/"
        },
        "id": "DUNL6JmVDv8d",
        "outputId": "62393212-48e6-4503-cde2-8180f7b67e8c",
        "cellView": "form"
      },
      "execution_count": 1,
      "outputs": [
        {
          "output_type": "stream",
          "name": "stdout",
          "text": [
            "--2025-03-28 13:51:04--  https://cernbox.cern.ch/remote.php/dav/public-files/AtBT8y4MiQYFcgc/SinglePhotonPt50_IMGCROPS_n249k_RHv1.hdf5\n",
            "Resolving cernbox.cern.ch (cernbox.cern.ch)... 137.138.120.151, 128.142.170.17, 128.142.53.28, ...\n",
            "Connecting to cernbox.cern.ch (cernbox.cern.ch)|137.138.120.151|:443... connected.\n",
            "HTTP request sent, awaiting response... 200 OK\n",
            "Length: 119703858 (114M) [application/octet-stream]\n",
            "Saving to: ‘photons.hdf5’\n",
            "\n",
            "photons.hdf5        100%[===================>] 114.16M  20.6MB/s    in 6.9s    \n",
            "\n",
            "2025-03-28 13:51:12 (16.4 MB/s) - ‘photons.hdf5’ saved [119703858/119703858]\n",
            "\n",
            "--2025-03-28 13:51:13--  https://cernbox.cern.ch/remote.php/dav/public-files/FbXw3V4XNyYB3oA/SingleElectronPt50_IMGCROPS_n249k_RHv1.hdf5\n",
            "Resolving cernbox.cern.ch (cernbox.cern.ch)... 137.138.120.151, 128.142.170.17, 128.142.53.28, ...\n",
            "Connecting to cernbox.cern.ch (cernbox.cern.ch)|137.138.120.151|:443... connected.\n",
            "HTTP request sent, awaiting response... 200 OK\n",
            "Length: 128927319 (123M) [application/octet-stream]\n",
            "Saving to: ‘electrons.hdf5’\n",
            "\n",
            "electrons.hdf5      100%[===================>] 122.95M  12.2MB/s    in 11s     \n",
            "\n",
            "2025-03-28 13:51:25 (10.8 MB/s) - ‘electrons.hdf5’ saved [128927319/128927319]\n",
            "\n"
          ]
        }
      ]
    },
    {
      "cell_type": "code",
      "source": [
        "#@title Imports\n",
        "import random\n",
        "import h5py\n",
        "import numpy as np\n",
        "import matplotlib.pyplot as plt\n",
        "\n",
        "import torch\n",
        "import torch.nn as nn\n",
        "import torch.nn.functional as F\n",
        "import torch.optim as optim\n",
        "from torch.utils.data import DataLoader, TensorDataset, random_split\n",
        "from torchsummary import summary\n",
        "\n",
        "from sklearn.metrics import roc_curve, auc\n",
        "from tqdm import tqdm\n",
        "\n",
        "device = torch.device('cuda' if torch.cuda.is_available() else 'cpu')\n",
        "print(f\"Using device: {device}\")"
      ],
      "metadata": {
        "id": "ZbYz1iCKD_cO",
        "colab": {
          "base_uri": "https://localhost:8080/"
        },
        "outputId": "652ba396-f03f-4b79-ea75-e31bf978449e",
        "cellView": "form"
      },
      "execution_count": 5,
      "outputs": [
        {
          "output_type": "stream",
          "name": "stdout",
          "text": [
            "Using device: cuda\n"
          ]
        }
      ]
    },
    {
      "cell_type": "code",
      "source": [
        "#@title Set random seed\n",
        "\n",
        "# For reproducibility, taken from Neuromatch Academy's Deep Learning course material\n",
        "def set_seed(seed=None, seed_torch=True):\n",
        "  \"\"\"\n",
        "  Function that controls randomness. NumPy and random modules must be imported.\n",
        "\n",
        "  Args:\n",
        "    seed : Integer\n",
        "      A non-negative integer that defines the random state. Default is `None`.\n",
        "    seed_torch : Boolean\n",
        "      If `True` sets the random seed for pytorch tensors, so pytorch module\n",
        "      must be imported. Default is `True`.\n",
        "\n",
        "  Returns:\n",
        "    Nothing.\n",
        "  \"\"\"\n",
        "  if seed is None:\n",
        "    seed = np.random.choice(2 ** 32)\n",
        "  random.seed(seed)\n",
        "  np.random.seed(seed)\n",
        "  if seed_torch:\n",
        "    torch.manual_seed(seed)\n",
        "    torch.cuda.manual_seed_all(seed)\n",
        "    torch.cuda.manual_seed(seed)\n",
        "    torch.backends.cudnn.benchmark = False\n",
        "    torch.backends.cudnn.deterministic = True\n",
        "\n",
        "  print(f'Random seed {seed} has been set.')\n",
        "\n",
        "set_seed(seed=42)\n",
        "gen = torch.Generator().manual_seed(42)"
      ],
      "metadata": {
        "colab": {
          "base_uri": "https://localhost:8080/"
        },
        "cellView": "form",
        "id": "VOzHqEc9BfcL",
        "outputId": "7ade1cac-5984-4f7e-bdbb-02eafe1cd601"
      },
      "execution_count": 6,
      "outputs": [
        {
          "output_type": "stream",
          "name": "stdout",
          "text": [
            "Random seed 42 has been set.\n"
          ]
        }
      ]
    },
    {
      "cell_type": "code",
      "source": [
        "#@title Load the dataset\n",
        "# The datasets fits into the RAM so I'll load them entirely\n",
        "f = h5py.File('photons.hdf5', 'r')\n",
        "p_x = f['X'][:]\n",
        "p_y = f['y'][:]\n",
        "\n",
        "f = h5py.File('electrons.hdf5', 'r')\n",
        "e_x = f['X'][:]\n",
        "e_y = f['y'][:]"
      ],
      "metadata": {
        "id": "vZ0cAGLvBj3Z"
      },
      "execution_count": 7,
      "outputs": []
    },
    {
      "cell_type": "code",
      "source": [
        "#@title Visualizing the data\n",
        "\n",
        "avg_p = np.mean(p_x, axis=0)\n",
        "avg_p_energy, avg_p_time = avg_p[..., 0], avg_p[..., 1]\n",
        "\n",
        "avg_e = np.mean(e_x, axis=0)\n",
        "avg_e_energy, avg_e_time = avg_e[..., 0], avg_e[..., 1]\n",
        "\n",
        "plt.figure(figsize=(8, 6))\n",
        "\n",
        "# Photon Plots (Top Row)\n",
        "plt.subplot(2, 2, 1)\n",
        "plt.imshow(avg_p_energy, cmap='viridis', vmin=0, vmax=np.max(avg_p_energy))\n",
        "plt.title('Average Hit Energy - Photons')\n",
        "plt.colorbar()\n",
        "\n",
        "plt.subplot(2, 2, 2)\n",
        "plt.imshow(avg_p_time, cmap='viridis', vmin=0, vmax=np.max(avg_p_time))\n",
        "plt.title('Average Time - Photons')\n",
        "plt.colorbar()\n",
        "\n",
        "# Electron Plots (Bottom Row)\n",
        "plt.subplot(2, 2, 3)\n",
        "plt.imshow(avg_e_energy, cmap='viridis', vmin=0, vmax=np.max(avg_e_energy))\n",
        "plt.title('Average Hit Energy - Electrons')\n",
        "plt.colorbar()\n",
        "\n",
        "plt.subplot(2, 2, 4)\n",
        "plt.imshow(avg_e_time, cmap='viridis', vmin=0, vmax=np.max(avg_e_time))\n",
        "plt.title('Average Time - Electrons')\n",
        "plt.colorbar()\n",
        "\n",
        "plt.tight_layout()\n",
        "plt.show()"
      ],
      "metadata": {
        "colab": {
          "base_uri": "https://localhost:8080/",
          "height": 607
        },
        "cellView": "form",
        "id": "tZmDE4QdXcvn",
        "outputId": "25cf0a0a-9d7b-480a-e572-4dbdd23589e8"
      },
      "execution_count": null,
      "outputs": [
        {
          "output_type": "display_data",
          "data": {
            "text/plain": [
              "<Figure size 800x600 with 8 Axes>"
            ],
            "image/png": "[encoded data removed]"
          },
          "metadata": {}
        }
      ]
    },
    {
      "cell_type": "markdown",
      "source": [
        "## Preprocessing"
      ],
      "metadata": {
        "id": "-Dr_imeyycLK"
      }
    },
    {
      "cell_type": "code",
      "source": [
        "# Combine data and create labels\n",
        "X = np.concatenate([p_x, e_x], axis=0)\n",
        "y = np.concatenate([p_y, e_y], axis=0)\n",
        "\n",
        "del p_x, e_x, p_y, e_y"
      ],
      "metadata": {
        "id": "jIH2fcZtgk_w"
      },
      "execution_count": 8,
      "outputs": []
    },
    {
      "cell_type": "code",
      "source": [
        "# Create dataset\n",
        "X = torch.tensor(X, dtype=torch.float32).permute(0, 3, 1, 2)\n",
        "y = torch.tensor(y, dtype=torch.float32)\n",
        "dataset = TensorDataset(X, y)\n",
        "\n",
        "# Split dataset\n",
        "train_dataset, val_dataset, test_dataset = random_split(dataset, [0.7, 0.2, 0.1], generator=gen)"
      ],
      "metadata": {
        "id": "fBQUqIsfyaHH"
      },
      "execution_count": 9,
      "outputs": []
    },
    {
      "cell_type": "code",
      "source": [
        "# Create dataloaders\n",
        "batch_size = 64\n",
        "train_loader = DataLoader(train_dataset, batch_size=batch_size, shuffle=True)\n",
        "val_loader = DataLoader(val_dataset, batch_size=batch_size, shuffle=False)\n",
        "test_loader = DataLoader(test_dataset, batch_size=batch_size, shuffle=False)"
      ],
      "metadata": {
        "id": "9Z_quN0k5fFG"
      },
      "execution_count": 10,
      "outputs": []
    },
    {
      "cell_type": "markdown",
      "source": [
        "## Model Architecture\n",
        "The model architecture contains an initial 5x5 convolutional layer, 3 ResNet blocks, followed by a dropout layer and a fully-connected layer.\n",
        "\n",
        "Since the data sample is only 32x32 size, I used 5x5 kernel for the initial convolutional layer instead of the standard 7x7 kernel size.\n",
        "\n"
      ],
      "metadata": {
        "id": "uhXN8f4yye-u"
      }
    },
    {
      "cell_type": "code",
      "source": [
        "#@title ResNet\n",
        "class BasicBlock(nn.Module):\n",
        "\n",
        "    def __init__(self, in_channels, out_channels):\n",
        "        super().__init__()\n",
        "        self.downsample = out_channels//in_channels\n",
        "\n",
        "        self.conv1 = nn.Conv2d(in_channels, out_channels, kernel_size=3, stride=self.downsample, padding=1)\n",
        "        self.bn1 = nn.BatchNorm2d(out_channels)\n",
        "        self.relu = nn.ReLU(inplace=True)\n",
        "\n",
        "        self.conv2 = nn.Conv2d(out_channels, out_channels, kernel_size=3, padding=1)\n",
        "        self.bn2 = nn.BatchNorm2d(out_channels)\n",
        "        self.shortcut = nn.Conv2d(in_channels, out_channels, kernel_size=1, stride=self.downsample)\n",
        "\n",
        "    def forward(self, X):\n",
        "        Y = self.relu(self.bn1(self.conv1(X)))\n",
        "        Y = self.bn2(self.conv2(Y))\n",
        "\n",
        "        if self.downsample > 1:\n",
        "            X = self.shortcut(X)\n",
        "\n",
        "        Y = self.relu(Y + X)\n",
        "        return Y\n",
        "\n",
        "def block_layers(in_channels, out_channels, num_residuals):\n",
        "    layers = []\n",
        "    for _ in range(num_residuals):\n",
        "        layers.append(BasicBlock(in_channels, out_channels))\n",
        "    return nn.Sequential(*layers)\n",
        "\n",
        "b1 = nn.Sequential(nn.Conv2d(2, 32, kernel_size=5, stride=1, padding=1),\n",
        "                   nn.BatchNorm2d(32),\n",
        "                   nn.ReLU(),\n",
        "                   nn.MaxPool2d(kernel_size=2))\n",
        "\n",
        "b2 = block_layers(32, 32, 2)\n",
        "b3 = block_layers(32, 64, 1)\n",
        "b4 = block_layers(64, 64, 2)\n",
        "\n",
        "net = nn.Sequential(b1, b2, b3, b4,\n",
        "                    nn.Dropout(0.5),\n",
        "                    nn.AdaptiveAvgPool2d((1,1)),\n",
        "                    nn.Flatten(),\n",
        "                    nn.Linear(64, 1))\n",
        "model = net.to(device)\n",
        "summary(model, (2, 32, 32))"
      ],
      "metadata": {
        "id": "XMM4wzSbAn2f",
        "colab": {
          "base_uri": "https://localhost:8080/"
        },
        "outputId": "df250b4c-fabd-406f-8843-469605ab04fc"
      },
      "execution_count": 21,
      "outputs": [
        {
          "output_type": "stream",
          "name": "stdout",
          "text": [
            "----------------------------------------------------------------\n",
            "        Layer (type)               Output Shape         Param #\n",
            "================================================================\n",
            "            Conv2d-1           [-1, 32, 30, 30]           1,632\n",
            "       BatchNorm2d-2           [-1, 32, 30, 30]              64\n",
            "              ReLU-3           [-1, 32, 30, 30]               0\n",
            "         MaxPool2d-4           [-1, 32, 15, 15]               0\n",
            "            Conv2d-5           [-1, 32, 15, 15]           9,248\n",
            "       BatchNorm2d-6           [-1, 32, 15, 15]              64\n",
            "              ReLU-7           [-1, 32, 15, 15]               0\n",
            "            Conv2d-8           [-1, 32, 15, 15]           9,248\n",
            "       BatchNorm2d-9           [-1, 32, 15, 15]              64\n",
            "             ReLU-10           [-1, 32, 15, 15]               0\n",
            "       BasicBlock-11           [-1, 32, 15, 15]               0\n",
            "           Conv2d-12           [-1, 32, 15, 15]           9,248\n",
            "      BatchNorm2d-13           [-1, 32, 15, 15]              64\n",
            "             ReLU-14           [-1, 32, 15, 15]               0\n",
            "           Conv2d-15           [-1, 32, 15, 15]           9,248\n",
            "      BatchNorm2d-16           [-1, 32, 15, 15]              64\n",
            "             ReLU-17           [-1, 32, 15, 15]               0\n",
            "       BasicBlock-18           [-1, 32, 15, 15]               0\n",
            "           Conv2d-19             [-1, 64, 8, 8]          18,496\n",
            "      BatchNorm2d-20             [-1, 64, 8, 8]             128\n",
            "             ReLU-21             [-1, 64, 8, 8]               0\n",
            "           Conv2d-22             [-1, 64, 8, 8]          36,928\n",
            "      BatchNorm2d-23             [-1, 64, 8, 8]             128\n",
            "           Conv2d-24             [-1, 64, 8, 8]           2,112\n",
            "             ReLU-25             [-1, 64, 8, 8]               0\n",
            "       BasicBlock-26             [-1, 64, 8, 8]               0\n",
            "           Conv2d-27             [-1, 64, 8, 8]          36,928\n",
            "      BatchNorm2d-28             [-1, 64, 8, 8]             128\n",
            "             ReLU-29             [-1, 64, 8, 8]               0\n",
            "           Conv2d-30             [-1, 64, 8, 8]          36,928\n",
            "      BatchNorm2d-31             [-1, 64, 8, 8]             128\n",
            "             ReLU-32             [-1, 64, 8, 8]               0\n",
            "       BasicBlock-33             [-1, 64, 8, 8]               0\n",
            "           Conv2d-34             [-1, 64, 8, 8]          36,928\n",
            "      BatchNorm2d-35             [-1, 64, 8, 8]             128\n",
            "             ReLU-36             [-1, 64, 8, 8]               0\n",
            "           Conv2d-37             [-1, 64, 8, 8]          36,928\n",
            "      BatchNorm2d-38             [-1, 64, 8, 8]             128\n",
            "             ReLU-39             [-1, 64, 8, 8]               0\n",
            "       BasicBlock-40             [-1, 64, 8, 8]               0\n",
            "          Dropout-41             [-1, 64, 8, 8]               0\n",
            "AdaptiveAvgPool2d-42             [-1, 64, 1, 1]               0\n",
            "          Flatten-43                   [-1, 64]               0\n",
            "           Linear-44                    [-1, 1]              65\n",
            "================================================================\n",
            "Total params: 245,025\n",
            "Trainable params: 245,025\n",
            "Non-trainable params: 0\n",
            "----------------------------------------------------------------\n",
            "Input size (MB): 0.01\n",
            "Forward/backward pass size (MB): 2.20\n",
            "Params size (MB): 0.93\n",
            "Estimated Total Size (MB): 3.15\n",
            "----------------------------------------------------------------\n"
          ]
        }
      ]
    },
    {
      "cell_type": "markdown",
      "source": [
        "## Training Setup\n",
        "\n"
      ],
      "metadata": {
        "id": "MJwY1ORXyimf"
      }
    },
    {
      "cell_type": "code",
      "source": [
        "def evaluate(model, device, data_loader, show=True):\n",
        "    test_loss, accuracy = 0.0, 0.0\n",
        "    predictions, targets = [], []\n",
        "\n",
        "    model.eval()\n",
        "    with torch.no_grad():\n",
        "      for X, y in data_loader:\n",
        "        X, y = X.to(device), y.to(device)\n",
        "        logits = model(X).squeeze()\n",
        "        test_loss += F.binary_cross_entropy_with_logits(logits, y).item()\n",
        "        pred = logits.ge(0.).byte()\n",
        "        accuracy += pred.eq(y.byte()).float().mean().item()\n",
        "\n",
        "        y_pred = torch.sigmoid(logits)\n",
        "\n",
        "        predictions.append(y_pred.tolist())\n",
        "        targets.append(y.tolist())\n",
        "\n",
        "    # Compute ROC score\n",
        "    predictions = np.concatenate(predictions)\n",
        "    targets = np.concatenate(targets)\n",
        "    fpr, tpr, _ = roc_curve(targets, predictions)\n",
        "    roc_auc = auc(fpr, tpr)\n",
        "\n",
        "    test_loss /= len(data_loader)\n",
        "    accuracy /= len(data_loader)\n",
        "    if show:\n",
        "        print(f'Test set: Average loss: {test_loss:.4f}\\nAccuracy: {accuracy:.4f}\\nROC AUC: {roc_auc:.4f}')\n",
        "    return test_loss, accuracy, roc_auc, fpr, tpr"
      ],
      "metadata": {
        "id": "T0Rqk7eOlDlb"
      },
      "execution_count": 12,
      "outputs": []
    },
    {
      "cell_type": "code",
      "source": [
        "def train(model, device, data_loader, val_loader, num_epochs):\n",
        "    train_loss, train_acc = [], []\n",
        "    val_loss, val_acc, roc_scores = [], [], []\n",
        "\n",
        "    for epoch in range(1, num_epochs+1):\n",
        "      print(f\"Epoch {epoch}/{num_epochs}\")\n",
        "\n",
        "      epoch_loss, epoch_acc = 0, 0\n",
        "      model.train()\n",
        "      for data in tqdm(data_loader, total=len(data_loader)):\n",
        "          X, y = data[0].to(device), data[1].to(device)\n",
        "          optimizer.zero_grad()\n",
        "          y_pred = model(X).squeeze()\n",
        "          loss = F.binary_cross_entropy_with_logits(y_pred, y)\n",
        "          loss.backward()\n",
        "          optimizer.step()\n",
        "\n",
        "          epoch_loss += loss.item()\n",
        "\n",
        "          pred = y_pred.ge(0.).byte()\n",
        "          acc = pred.eq(y.byte()).float().mean()\n",
        "          epoch_acc += acc.item()\n",
        "\n",
        "      train_loss.append(epoch_loss/len(data_loader))\n",
        "      train_acc.append(epoch_acc/len(data_loader))\n",
        "      print('Epoch: {}, Train loss: {:.4f}, Train accuracy: {:.4f}'.format(epoch, train_loss[epoch-1], train_acc[epoch-1]))\n",
        "\n",
        "      # Validation\n",
        "      val_loss_epoch, val_acc_epoch, roc_score, _, _ = evaluate(model, device, val_loader, show=False)\n",
        "      val_loss.append(val_loss_epoch)\n",
        "      val_acc.append(val_acc_epoch)\n",
        "      roc_scores.append(roc_score)\n",
        "      print('Epoch: {}, Val loss: {:.4f}, Val accuracy: {:.4f}'.format(epoch, val_loss[epoch-1], val_acc[epoch-1]))\n",
        "\n",
        "      scheduler.step(val_loss_epoch)\n",
        "\n",
        "      if epoch % 10 == 0:\n",
        "        torch.save(model.state_dict(), f\"resnet15_particle_classifier_{epoch}.pth\")\n",
        "\n",
        "    return train_loss, train_acc, val_loss, val_acc, roc_scores"
      ],
      "metadata": {
        "id": "9cRt7zPIhp8X"
      },
      "execution_count": 17,
      "outputs": []
    },
    {
      "cell_type": "code",
      "source": [
        "# Initialize\n",
        "lr = 1e-3\n",
        "weight_decay = 1e-4\n",
        "\n",
        "model = net.to(device)\n",
        "optimizer = optim.Adam(model.parameters(), lr=lr, weight_decay=weight_decay)\n",
        "scheduler = optim.lr_scheduler.ReduceLROnPlateau(optimizer, 'min', patience=3)"
      ],
      "metadata": {
        "id": "lLCX3hjinm5T"
      },
      "execution_count": 22,
      "outputs": []
    },
    {
      "cell_type": "markdown",
      "source": [
        "## Training Loop"
      ],
      "metadata": {
        "id": "fABe6W8L3vJl"
      }
    },
    {
      "cell_type": "code",
      "source": [
        "train_loss, train_acc, val_loss, val_acc, roc_scores = train(model, device, data_loader=train_loader, val_loader=val_loader, num_epochs=100)"
      ],
      "metadata": {
        "colab": {
          "base_uri": "https://localhost:8080/"
        },
        "id": "ejV_6MHlalas",
        "outputId": "68fb75e0-7b88-4905-8fad-085e5d270d25"
      },
      "execution_count": 23,
      "outputs": [
        {
          "output_type": "stream",
          "name": "stdout",
          "text": [
            "Epoch 1/100\n"
          ]
        },
        {
          "output_type": "stream",
          "name": "stderr",
          "text": [
            "100%|██████████| 5447/5447 [00:48<00:00, 111.52it/s]\n"
          ]
        },
        {
          "output_type": "stream",
          "name": "stdout",
          "text": [
            "Epoch: 1, Train loss: 0.6284, Train accuracy: 0.6497\n",
            "Epoch: 1, Val loss: 0.6020, Val accuracy: 0.6861\n",
            "Epoch 2/100\n"
          ]
        },
        {
          "output_type": "stream",
          "name": "stderr",
          "text": [
            "100%|██████████| 5447/5447 [00:49<00:00, 110.93it/s]\n"
          ]
        },
        {
          "output_type": "stream",
          "name": "stdout",
          "text": [
            "Epoch: 2, Train loss: 0.5864, Train accuracy: 0.6978\n",
            "Epoch: 2, Val loss: 0.5938, Val accuracy: 0.6909\n",
            "Epoch 3/100\n"
          ]
        },
        {
          "output_type": "stream",
          "name": "stderr",
          "text": [
            "100%|██████████| 5447/5447 [00:48<00:00, 112.32it/s]\n"
          ]
        },
        {
          "output_type": "stream",
          "name": "stdout",
          "text": [
            "Epoch: 3, Train loss: 0.5763, Train accuracy: 0.7068\n",
            "Epoch: 3, Val loss: 0.5654, Val accuracy: 0.7155\n",
            "Epoch 4/100\n"
          ]
        },
        {
          "output_type": "stream",
          "name": "stderr",
          "text": [
            "100%|██████████| 5447/5447 [00:48<00:00, 112.52it/s]\n"
          ]
        },
        {
          "output_type": "stream",
          "name": "stdout",
          "text": [
            "Epoch: 4, Train loss: 0.5707, Train accuracy: 0.7110\n",
            "Epoch: 4, Val loss: 0.5701, Val accuracy: 0.7124\n",
            "Epoch 5/100\n"
          ]
        },
        {
          "output_type": "stream",
          "name": "stderr",
          "text": [
            "100%|██████████| 5447/5447 [00:48<00:00, 112.56it/s]\n"
          ]
        },
        {
          "output_type": "stream",
          "name": "stdout",
          "text": [
            "Epoch: 5, Train loss: 0.5676, Train accuracy: 0.7142\n",
            "Epoch: 5, Val loss: 0.6401, Val accuracy: 0.6224\n",
            "Epoch 6/100\n"
          ]
        },
        {
          "output_type": "stream",
          "name": "stderr",
          "text": [
            "100%|██████████| 5447/5447 [00:48<00:00, 112.09it/s]\n"
          ]
        },
        {
          "output_type": "stream",
          "name": "stdout",
          "text": [
            "Epoch: 6, Train loss: 0.5652, Train accuracy: 0.7154\n",
            "Epoch: 6, Val loss: 0.7272, Val accuracy: 0.5397\n",
            "Epoch 7/100\n"
          ]
        },
        {
          "output_type": "stream",
          "name": "stderr",
          "text": [
            "100%|██████████| 5447/5447 [00:48<00:00, 111.87it/s]\n"
          ]
        },
        {
          "output_type": "stream",
          "name": "stdout",
          "text": [
            "Epoch: 7, Train loss: 0.5638, Train accuracy: 0.7163\n",
            "Epoch: 7, Val loss: 0.5636, Val accuracy: 0.7174\n",
            "Epoch 8/100\n"
          ]
        },
        {
          "output_type": "stream",
          "name": "stderr",
          "text": [
            "100%|██████████| 5447/5447 [00:48<00:00, 111.81it/s]\n"
          ]
        },
        {
          "output_type": "stream",
          "name": "stdout",
          "text": [
            "Epoch: 8, Train loss: 0.5623, Train accuracy: 0.7176\n",
            "Epoch: 8, Val loss: 0.5617, Val accuracy: 0.7170\n",
            "Epoch 9/100\n"
          ]
        },
        {
          "output_type": "stream",
          "name": "stderr",
          "text": [
            "100%|██████████| 5447/5447 [00:48<00:00, 112.27it/s]\n"
          ]
        },
        {
          "output_type": "stream",
          "name": "stdout",
          "text": [
            "Epoch: 9, Train loss: 0.5614, Train accuracy: 0.7178\n",
            "Epoch: 9, Val loss: 0.5689, Val accuracy: 0.7119\n",
            "Epoch 10/100\n"
          ]
        },
        {
          "output_type": "stream",
          "name": "stderr",
          "text": [
            "100%|██████████| 5447/5447 [00:48<00:00, 112.46it/s]\n"
          ]
        },
        {
          "output_type": "stream",
          "name": "stdout",
          "text": [
            "Epoch: 10, Train loss: 0.5603, Train accuracy: 0.7194\n",
            "Epoch: 10, Val loss: 0.6007, Val accuracy: 0.6807\n",
            "Epoch 11/100\n"
          ]
        },
        {
          "output_type": "stream",
          "name": "stderr",
          "text": [
            "100%|██████████| 5447/5447 [00:48<00:00, 113.02it/s]\n"
          ]
        },
        {
          "output_type": "stream",
          "name": "stdout",
          "text": [
            "Epoch: 11, Train loss: 0.5593, Train accuracy: 0.7199\n",
            "Epoch: 11, Val loss: 0.5552, Val accuracy: 0.7213\n",
            "Epoch 12/100\n"
          ]
        },
        {
          "output_type": "stream",
          "name": "stderr",
          "text": [
            "100%|██████████| 5447/5447 [00:48<00:00, 112.57it/s]\n"
          ]
        },
        {
          "output_type": "stream",
          "name": "stdout",
          "text": [
            "Epoch: 12, Train loss: 0.5585, Train accuracy: 0.7207\n",
            "Epoch: 12, Val loss: 0.5561, Val accuracy: 0.7231\n",
            "Epoch 13/100\n"
          ]
        },
        {
          "output_type": "stream",
          "name": "stderr",
          "text": [
            "100%|██████████| 5447/5447 [00:48<00:00, 111.93it/s]\n"
          ]
        },
        {
          "output_type": "stream",
          "name": "stdout",
          "text": [
            "Epoch: 13, Train loss: 0.5581, Train accuracy: 0.7210\n",
            "Epoch: 13, Val loss: 0.5603, Val accuracy: 0.7195\n",
            "Epoch 14/100\n"
          ]
        },
        {
          "output_type": "stream",
          "name": "stderr",
          "text": [
            "100%|██████████| 5447/5447 [00:48<00:00, 112.18it/s]\n"
          ]
        },
        {
          "output_type": "stream",
          "name": "stdout",
          "text": [
            "Epoch: 14, Train loss: 0.5577, Train accuracy: 0.7214\n",
            "Epoch: 14, Val loss: 0.5576, Val accuracy: 0.7208\n",
            "Epoch 15/100\n"
          ]
        },
        {
          "output_type": "stream",
          "name": "stderr",
          "text": [
            "100%|██████████| 5447/5447 [00:48<00:00, 112.67it/s]\n"
          ]
        },
        {
          "output_type": "stream",
          "name": "stdout",
          "text": [
            "Epoch: 15, Train loss: 0.5573, Train accuracy: 0.7221\n",
            "Epoch: 15, Val loss: 0.5686, Val accuracy: 0.7137\n",
            "Epoch 16/100\n"
          ]
        },
        {
          "output_type": "stream",
          "name": "stderr",
          "text": [
            "100%|██████████| 5447/5447 [00:48<00:00, 112.44it/s]\n"
          ]
        },
        {
          "output_type": "stream",
          "name": "stdout",
          "text": [
            "Epoch: 16, Train loss: 0.5472, Train accuracy: 0.7287\n",
            "Epoch: 16, Val loss: 0.5446, Val accuracy: 0.7309\n",
            "Epoch 17/100\n"
          ]
        },
        {
          "output_type": "stream",
          "name": "stderr",
          "text": [
            "100%|██████████| 5447/5447 [00:48<00:00, 112.43it/s]\n"
          ]
        },
        {
          "output_type": "stream",
          "name": "stdout",
          "text": [
            "Epoch: 17, Train loss: 0.5447, Train accuracy: 0.7303\n",
            "Epoch: 17, Val loss: 0.5432, Val accuracy: 0.7312\n",
            "Epoch 18/100\n"
          ]
        },
        {
          "output_type": "stream",
          "name": "stderr",
          "text": [
            "100%|██████████| 5447/5447 [00:48<00:00, 111.75it/s]\n"
          ]
        },
        {
          "output_type": "stream",
          "name": "stdout",
          "text": [
            "Epoch: 18, Train loss: 0.5438, Train accuracy: 0.7313\n",
            "Epoch: 18, Val loss: 0.5426, Val accuracy: 0.7315\n",
            "Epoch 19/100\n"
          ]
        },
        {
          "output_type": "stream",
          "name": "stderr",
          "text": [
            "100%|██████████| 5447/5447 [00:48<00:00, 112.15it/s]\n"
          ]
        },
        {
          "output_type": "stream",
          "name": "stdout",
          "text": [
            "Epoch: 19, Train loss: 0.5428, Train accuracy: 0.7319\n",
            "Epoch: 19, Val loss: 0.5427, Val accuracy: 0.7318\n",
            "Epoch 20/100\n"
          ]
        },
        {
          "output_type": "stream",
          "name": "stderr",
          "text": [
            "100%|██████████| 5447/5447 [00:48<00:00, 112.17it/s]\n"
          ]
        },
        {
          "output_type": "stream",
          "name": "stdout",
          "text": [
            "Epoch: 20, Train loss: 0.5425, Train accuracy: 0.7320\n",
            "Epoch: 20, Val loss: 0.5422, Val accuracy: 0.7328\n",
            "Epoch 21/100\n"
          ]
        },
        {
          "output_type": "stream",
          "name": "stderr",
          "text": [
            "100%|██████████| 5447/5447 [00:48<00:00, 112.41it/s]\n"
          ]
        },
        {
          "output_type": "stream",
          "name": "stdout",
          "text": [
            "Epoch: 21, Train loss: 0.5420, Train accuracy: 0.7323\n",
            "Epoch: 21, Val loss: 0.5422, Val accuracy: 0.7328\n",
            "Epoch 22/100\n"
          ]
        },
        {
          "output_type": "stream",
          "name": "stderr",
          "text": [
            "100%|██████████| 5447/5447 [00:48<00:00, 112.10it/s]\n"
          ]
        },
        {
          "output_type": "stream",
          "name": "stdout",
          "text": [
            "Epoch: 22, Train loss: 0.5413, Train accuracy: 0.7331\n",
            "Epoch: 22, Val loss: 0.5434, Val accuracy: 0.7325\n",
            "Epoch 23/100\n"
          ]
        },
        {
          "output_type": "stream",
          "name": "stderr",
          "text": [
            "100%|██████████| 5447/5447 [00:48<00:00, 112.69it/s]\n"
          ]
        },
        {
          "output_type": "stream",
          "name": "stdout",
          "text": [
            "Epoch: 23, Train loss: 0.5408, Train accuracy: 0.7338\n",
            "Epoch: 23, Val loss: 0.5411, Val accuracy: 0.7330\n",
            "Epoch 24/100\n"
          ]
        },
        {
          "output_type": "stream",
          "name": "stderr",
          "text": [
            "100%|██████████| 5447/5447 [00:48<00:00, 112.87it/s]\n"
          ]
        },
        {
          "output_type": "stream",
          "name": "stdout",
          "text": [
            "Epoch: 24, Train loss: 0.5408, Train accuracy: 0.7335\n",
            "Epoch: 24, Val loss: 0.5418, Val accuracy: 0.7339\n",
            "Epoch 25/100\n"
          ]
        },
        {
          "output_type": "stream",
          "name": "stderr",
          "text": [
            "100%|██████████| 5447/5447 [00:48<00:00, 112.92it/s]\n"
          ]
        },
        {
          "output_type": "stream",
          "name": "stdout",
          "text": [
            "Epoch: 25, Train loss: 0.5403, Train accuracy: 0.7339\n",
            "Epoch: 25, Val loss: 0.5413, Val accuracy: 0.7323\n",
            "Epoch 26/100\n"
          ]
        },
        {
          "output_type": "stream",
          "name": "stderr",
          "text": [
            "100%|██████████| 5447/5447 [00:48<00:00, 112.82it/s]\n"
          ]
        },
        {
          "output_type": "stream",
          "name": "stdout",
          "text": [
            "Epoch: 26, Train loss: 0.5397, Train accuracy: 0.7339\n",
            "Epoch: 26, Val loss: 0.5405, Val accuracy: 0.7341\n",
            "Epoch 27/100\n"
          ]
        },
        {
          "output_type": "stream",
          "name": "stderr",
          "text": [
            "100%|██████████| 5447/5447 [00:48<00:00, 112.60it/s]\n"
          ]
        },
        {
          "output_type": "stream",
          "name": "stdout",
          "text": [
            "Epoch: 27, Train loss: 0.5398, Train accuracy: 0.7336\n",
            "Epoch: 27, Val loss: 0.5409, Val accuracy: 0.7332\n",
            "Epoch 28/100\n"
          ]
        },
        {
          "output_type": "stream",
          "name": "stderr",
          "text": [
            "100%|██████████| 5447/5447 [00:48<00:00, 111.70it/s]\n"
          ]
        },
        {
          "output_type": "stream",
          "name": "stdout",
          "text": [
            "Epoch: 28, Train loss: 0.5393, Train accuracy: 0.7338\n",
            "Epoch: 28, Val loss: 0.5419, Val accuracy: 0.7333\n",
            "Epoch 29/100\n"
          ]
        },
        {
          "output_type": "stream",
          "name": "stderr",
          "text": [
            "100%|██████████| 5447/5447 [00:48<00:00, 111.32it/s]\n"
          ]
        },
        {
          "output_type": "stream",
          "name": "stdout",
          "text": [
            "Epoch: 29, Train loss: 0.5390, Train accuracy: 0.7343\n",
            "Epoch: 29, Val loss: 0.5401, Val accuracy: 0.7346\n",
            "Epoch 30/100\n"
          ]
        },
        {
          "output_type": "stream",
          "name": "stderr",
          "text": [
            "100%|██████████| 5447/5447 [00:48<00:00, 112.54it/s]\n"
          ]
        },
        {
          "output_type": "stream",
          "name": "stdout",
          "text": [
            "Epoch: 30, Train loss: 0.5386, Train accuracy: 0.7347\n",
            "Epoch: 30, Val loss: 0.5404, Val accuracy: 0.7333\n",
            "Epoch 31/100\n"
          ]
        },
        {
          "output_type": "stream",
          "name": "stderr",
          "text": [
            "100%|██████████| 5447/5447 [00:48<00:00, 112.65it/s]\n"
          ]
        },
        {
          "output_type": "stream",
          "name": "stdout",
          "text": [
            "Epoch: 31, Train loss: 0.5383, Train accuracy: 0.7345\n",
            "Epoch: 31, Val loss: 0.5398, Val accuracy: 0.7340\n",
            "Epoch 32/100\n"
          ]
        },
        {
          "output_type": "stream",
          "name": "stderr",
          "text": [
            "100%|██████████| 5447/5447 [00:48<00:00, 112.78it/s]\n"
          ]
        },
        {
          "output_type": "stream",
          "name": "stdout",
          "text": [
            "Epoch: 32, Train loss: 0.5380, Train accuracy: 0.7356\n",
            "Epoch: 32, Val loss: 0.5398, Val accuracy: 0.7339\n",
            "Epoch 33/100\n"
          ]
        },
        {
          "output_type": "stream",
          "name": "stderr",
          "text": [
            "100%|██████████| 5447/5447 [00:48<00:00, 112.77it/s]\n"
          ]
        },
        {
          "output_type": "stream",
          "name": "stdout",
          "text": [
            "Epoch: 33, Train loss: 0.5376, Train accuracy: 0.7356\n",
            "Epoch: 33, Val loss: 0.5397, Val accuracy: 0.7339\n",
            "Epoch 34/100\n"
          ]
        },
        {
          "output_type": "stream",
          "name": "stderr",
          "text": [
            "100%|██████████| 5447/5447 [00:48<00:00, 112.89it/s]\n"
          ]
        },
        {
          "output_type": "stream",
          "name": "stdout",
          "text": [
            "Epoch: 34, Train loss: 0.5373, Train accuracy: 0.7351\n",
            "Epoch: 34, Val loss: 0.5435, Val accuracy: 0.7320\n",
            "Epoch 35/100\n"
          ]
        },
        {
          "output_type": "stream",
          "name": "stderr",
          "text": [
            "100%|██████████| 5447/5447 [00:48<00:00, 111.21it/s]\n"
          ]
        },
        {
          "output_type": "stream",
          "name": "stdout",
          "text": [
            "Epoch: 35, Train loss: 0.5373, Train accuracy: 0.7353\n",
            "Epoch: 35, Val loss: 0.5393, Val accuracy: 0.7340\n",
            "Epoch 36/100\n"
          ]
        },
        {
          "output_type": "stream",
          "name": "stderr",
          "text": [
            "100%|██████████| 5447/5447 [00:49<00:00, 109.07it/s]\n"
          ]
        },
        {
          "output_type": "stream",
          "name": "stdout",
          "text": [
            "Epoch: 36, Train loss: 0.5368, Train accuracy: 0.7358\n",
            "Epoch: 36, Val loss: 0.5398, Val accuracy: 0.7344\n",
            "Epoch 37/100\n"
          ]
        },
        {
          "output_type": "stream",
          "name": "stderr",
          "text": [
            "100%|██████████| 5447/5447 [00:49<00:00, 110.90it/s]\n"
          ]
        },
        {
          "output_type": "stream",
          "name": "stdout",
          "text": [
            "Epoch: 37, Train loss: 0.5367, Train accuracy: 0.7357\n",
            "Epoch: 37, Val loss: 0.5399, Val accuracy: 0.7344\n",
            "Epoch 38/100\n"
          ]
        },
        {
          "output_type": "stream",
          "name": "stderr",
          "text": [
            "100%|██████████| 5447/5447 [00:49<00:00, 110.44it/s]\n"
          ]
        },
        {
          "output_type": "stream",
          "name": "stdout",
          "text": [
            "Epoch: 38, Train loss: 0.5366, Train accuracy: 0.7357\n",
            "Epoch: 38, Val loss: 0.5406, Val accuracy: 0.7332\n",
            "Epoch 39/100\n"
          ]
        },
        {
          "output_type": "stream",
          "name": "stderr",
          "text": [
            "100%|██████████| 5447/5447 [00:48<00:00, 111.47it/s]\n"
          ]
        },
        {
          "output_type": "stream",
          "name": "stdout",
          "text": [
            "Epoch: 39, Train loss: 0.5361, Train accuracy: 0.7358\n",
            "Epoch: 39, Val loss: 0.5396, Val accuracy: 0.7345\n",
            "Epoch 40/100\n"
          ]
        },
        {
          "output_type": "stream",
          "name": "stderr",
          "text": [
            "100%|██████████| 5447/5447 [00:48<00:00, 111.49it/s]\n"
          ]
        },
        {
          "output_type": "stream",
          "name": "stdout",
          "text": [
            "Epoch: 40, Train loss: 0.5336, Train accuracy: 0.7375\n",
            "Epoch: 40, Val loss: 0.5382, Val accuracy: 0.7346\n",
            "Epoch 41/100\n"
          ]
        },
        {
          "output_type": "stream",
          "name": "stderr",
          "text": [
            "100%|██████████| 5447/5447 [00:48<00:00, 111.26it/s]\n"
          ]
        },
        {
          "output_type": "stream",
          "name": "stdout",
          "text": [
            "Epoch: 41, Train loss: 0.5328, Train accuracy: 0.7382\n",
            "Epoch: 41, Val loss: 0.5384, Val accuracy: 0.7350\n",
            "Epoch 42/100\n"
          ]
        },
        {
          "output_type": "stream",
          "name": "stderr",
          "text": [
            "100%|██████████| 5447/5447 [00:49<00:00, 109.48it/s]\n"
          ]
        },
        {
          "output_type": "stream",
          "name": "stdout",
          "text": [
            "Epoch: 42, Train loss: 0.5331, Train accuracy: 0.7381\n",
            "Epoch: 42, Val loss: 0.5381, Val accuracy: 0.7350\n",
            "Epoch 43/100\n"
          ]
        },
        {
          "output_type": "stream",
          "name": "stderr",
          "text": [
            "100%|██████████| 5447/5447 [00:49<00:00, 110.45it/s]\n"
          ]
        },
        {
          "output_type": "stream",
          "name": "stdout",
          "text": [
            "Epoch: 43, Train loss: 0.5325, Train accuracy: 0.7382\n",
            "Epoch: 43, Val loss: 0.5385, Val accuracy: 0.7349\n",
            "Epoch 44/100\n"
          ]
        },
        {
          "output_type": "stream",
          "name": "stderr",
          "text": [
            "100%|██████████| 5447/5447 [00:48<00:00, 111.66it/s]\n"
          ]
        },
        {
          "output_type": "stream",
          "name": "stdout",
          "text": [
            "Epoch: 44, Train loss: 0.5328, Train accuracy: 0.7382\n",
            "Epoch: 44, Val loss: 0.5385, Val accuracy: 0.7347\n",
            "Epoch 45/100\n"
          ]
        },
        {
          "output_type": "stream",
          "name": "stderr",
          "text": [
            "100%|██████████| 5447/5447 [00:48<00:00, 112.29it/s]\n"
          ]
        },
        {
          "output_type": "stream",
          "name": "stdout",
          "text": [
            "Epoch: 45, Train loss: 0.5326, Train accuracy: 0.7383\n",
            "Epoch: 45, Val loss: 0.5383, Val accuracy: 0.7345\n",
            "Epoch 46/100\n"
          ]
        },
        {
          "output_type": "stream",
          "name": "stderr",
          "text": [
            "100%|██████████| 5447/5447 [00:48<00:00, 111.97it/s]\n"
          ]
        },
        {
          "output_type": "stream",
          "name": "stdout",
          "text": [
            "Epoch: 46, Train loss: 0.5323, Train accuracy: 0.7383\n",
            "Epoch: 46, Val loss: 0.5388, Val accuracy: 0.7348\n",
            "Epoch 47/100\n"
          ]
        },
        {
          "output_type": "stream",
          "name": "stderr",
          "text": [
            "100%|██████████| 5447/5447 [00:48<00:00, 111.24it/s]\n"
          ]
        },
        {
          "output_type": "stream",
          "name": "stdout",
          "text": [
            "Epoch: 47, Train loss: 0.5320, Train accuracy: 0.7383\n",
            "Epoch: 47, Val loss: 0.5382, Val accuracy: 0.7346\n",
            "Epoch 48/100\n"
          ]
        },
        {
          "output_type": "stream",
          "name": "stderr",
          "text": [
            "100%|██████████| 5447/5447 [00:48<00:00, 111.40it/s]\n"
          ]
        },
        {
          "output_type": "stream",
          "name": "stdout",
          "text": [
            "Epoch: 48, Train loss: 0.5320, Train accuracy: 0.7383\n",
            "Epoch: 48, Val loss: 0.5384, Val accuracy: 0.7345\n",
            "Epoch 49/100\n"
          ]
        },
        {
          "output_type": "stream",
          "name": "stderr",
          "text": [
            "100%|██████████| 5447/5447 [00:48<00:00, 111.67it/s]\n"
          ]
        },
        {
          "output_type": "stream",
          "name": "stdout",
          "text": [
            "Epoch: 49, Train loss: 0.5319, Train accuracy: 0.7388\n",
            "Epoch: 49, Val loss: 0.5384, Val accuracy: 0.7345\n",
            "Epoch 50/100\n"
          ]
        },
        {
          "output_type": "stream",
          "name": "stderr",
          "text": [
            "100%|██████████| 5447/5447 [00:49<00:00, 110.52it/s]\n"
          ]
        },
        {
          "output_type": "stream",
          "name": "stdout",
          "text": [
            "Epoch: 50, Train loss: 0.5317, Train accuracy: 0.7388\n",
            "Epoch: 50, Val loss: 0.5384, Val accuracy: 0.7348\n",
            "Epoch 51/100\n"
          ]
        },
        {
          "output_type": "stream",
          "name": "stderr",
          "text": [
            "100%|██████████| 5447/5447 [00:48<00:00, 111.32it/s]\n"
          ]
        },
        {
          "output_type": "stream",
          "name": "stdout",
          "text": [
            "Epoch: 51, Train loss: 0.5318, Train accuracy: 0.7388\n",
            "Epoch: 51, Val loss: 0.5386, Val accuracy: 0.7347\n",
            "Epoch 52/100\n"
          ]
        },
        {
          "output_type": "stream",
          "name": "stderr",
          "text": [
            "100%|██████████| 5447/5447 [00:48<00:00, 111.26it/s]\n"
          ]
        },
        {
          "output_type": "stream",
          "name": "stdout",
          "text": [
            "Epoch: 52, Train loss: 0.5316, Train accuracy: 0.7388\n",
            "Epoch: 52, Val loss: 0.5382, Val accuracy: 0.7348\n",
            "Epoch 53/100\n"
          ]
        },
        {
          "output_type": "stream",
          "name": "stderr",
          "text": [
            "100%|██████████| 5447/5447 [00:48<00:00, 111.71it/s]\n"
          ]
        },
        {
          "output_type": "stream",
          "name": "stdout",
          "text": [
            "Epoch: 53, Train loss: 0.5317, Train accuracy: 0.7388\n",
            "Epoch: 53, Val loss: 0.5383, Val accuracy: 0.7346\n",
            "Epoch 54/100\n"
          ]
        },
        {
          "output_type": "stream",
          "name": "stderr",
          "text": [
            "100%|██████████| 5447/5447 [00:48<00:00, 111.88it/s]\n"
          ]
        },
        {
          "output_type": "stream",
          "name": "stdout",
          "text": [
            "Epoch: 54, Train loss: 0.5318, Train accuracy: 0.7387\n",
            "Epoch: 54, Val loss: 0.5387, Val accuracy: 0.7348\n",
            "Epoch 55/100\n"
          ]
        },
        {
          "output_type": "stream",
          "name": "stderr",
          "text": [
            "100%|██████████| 5447/5447 [00:48<00:00, 112.04it/s]\n"
          ]
        },
        {
          "output_type": "stream",
          "name": "stdout",
          "text": [
            "Epoch: 55, Train loss: 0.5317, Train accuracy: 0.7384\n",
            "Epoch: 55, Val loss: 0.5384, Val accuracy: 0.7345\n",
            "Epoch 56/100\n"
          ]
        },
        {
          "output_type": "stream",
          "name": "stderr",
          "text": [
            "100%|██████████| 5447/5447 [00:48<00:00, 112.08it/s]\n"
          ]
        },
        {
          "output_type": "stream",
          "name": "stdout",
          "text": [
            "Epoch: 56, Train loss: 0.5317, Train accuracy: 0.7388\n",
            "Epoch: 56, Val loss: 0.5385, Val accuracy: 0.7346\n",
            "Epoch 57/100\n"
          ]
        },
        {
          "output_type": "stream",
          "name": "stderr",
          "text": [
            "100%|██████████| 5447/5447 [00:48<00:00, 111.87it/s]\n"
          ]
        },
        {
          "output_type": "stream",
          "name": "stdout",
          "text": [
            "Epoch: 57, Train loss: 0.5319, Train accuracy: 0.7389\n",
            "Epoch: 57, Val loss: 0.5383, Val accuracy: 0.7344\n",
            "Epoch 58/100\n"
          ]
        },
        {
          "output_type": "stream",
          "name": "stderr",
          "text": [
            "100%|██████████| 5447/5447 [00:48<00:00, 111.84it/s]\n"
          ]
        },
        {
          "output_type": "stream",
          "name": "stdout",
          "text": [
            "Epoch: 58, Train loss: 0.5318, Train accuracy: 0.7389\n",
            "Epoch: 58, Val loss: 0.5388, Val accuracy: 0.7344\n",
            "Epoch 59/100\n"
          ]
        },
        {
          "output_type": "stream",
          "name": "stderr",
          "text": [
            "100%|██████████| 5447/5447 [00:48<00:00, 112.26it/s]\n"
          ]
        },
        {
          "output_type": "stream",
          "name": "stdout",
          "text": [
            "Epoch: 59, Train loss: 0.5315, Train accuracy: 0.7386\n",
            "Epoch: 59, Val loss: 0.5383, Val accuracy: 0.7344\n",
            "Epoch 60/100\n"
          ]
        },
        {
          "output_type": "stream",
          "name": "stderr",
          "text": [
            "100%|██████████| 5447/5447 [00:48<00:00, 112.20it/s]\n"
          ]
        },
        {
          "output_type": "stream",
          "name": "stdout",
          "text": [
            "Epoch: 60, Train loss: 0.5319, Train accuracy: 0.7385\n",
            "Epoch: 60, Val loss: 0.5383, Val accuracy: 0.7345\n",
            "Epoch 61/100\n"
          ]
        },
        {
          "output_type": "stream",
          "name": "stderr",
          "text": [
            "100%|██████████| 5447/5447 [00:48<00:00, 111.63it/s]\n"
          ]
        },
        {
          "output_type": "stream",
          "name": "stdout",
          "text": [
            "Epoch: 61, Train loss: 0.5318, Train accuracy: 0.7385\n",
            "Epoch: 61, Val loss: 0.5382, Val accuracy: 0.7344\n",
            "Epoch 62/100\n"
          ]
        },
        {
          "output_type": "stream",
          "name": "stderr",
          "text": [
            "100%|██████████| 5447/5447 [00:48<00:00, 111.82it/s]\n"
          ]
        },
        {
          "output_type": "stream",
          "name": "stdout",
          "text": [
            "Epoch: 62, Train loss: 0.5316, Train accuracy: 0.7390\n",
            "Epoch: 62, Val loss: 0.5383, Val accuracy: 0.7344\n",
            "Epoch 63/100\n"
          ]
        },
        {
          "output_type": "stream",
          "name": "stderr",
          "text": [
            "100%|██████████| 5447/5447 [00:48<00:00, 112.09it/s]\n"
          ]
        },
        {
          "output_type": "stream",
          "name": "stdout",
          "text": [
            "Epoch: 63, Train loss: 0.5319, Train accuracy: 0.7388\n",
            "Epoch: 63, Val loss: 0.5385, Val accuracy: 0.7346\n",
            "Epoch 64/100\n"
          ]
        },
        {
          "output_type": "stream",
          "name": "stderr",
          "text": [
            "100%|██████████| 5447/5447 [00:48<00:00, 111.92it/s]\n"
          ]
        },
        {
          "output_type": "stream",
          "name": "stdout",
          "text": [
            "Epoch: 64, Train loss: 0.5319, Train accuracy: 0.7384\n",
            "Epoch: 64, Val loss: 0.5382, Val accuracy: 0.7349\n",
            "Epoch 65/100\n"
          ]
        },
        {
          "output_type": "stream",
          "name": "stderr",
          "text": [
            "100%|██████████| 5447/5447 [00:48<00:00, 111.91it/s]\n"
          ]
        },
        {
          "output_type": "stream",
          "name": "stdout",
          "text": [
            "Epoch: 65, Train loss: 0.5318, Train accuracy: 0.7383\n",
            "Epoch: 65, Val loss: 0.5383, Val accuracy: 0.7346\n",
            "Epoch 66/100\n"
          ]
        },
        {
          "output_type": "stream",
          "name": "stderr",
          "text": [
            "100%|██████████| 5447/5447 [00:48<00:00, 111.52it/s]\n"
          ]
        },
        {
          "output_type": "stream",
          "name": "stdout",
          "text": [
            "Epoch: 66, Train loss: 0.5319, Train accuracy: 0.7385\n",
            "Epoch: 66, Val loss: 0.5382, Val accuracy: 0.7345\n",
            "Epoch 67/100\n"
          ]
        },
        {
          "output_type": "stream",
          "name": "stderr",
          "text": [
            "100%|██████████| 5447/5447 [00:49<00:00, 111.01it/s]\n"
          ]
        },
        {
          "output_type": "stream",
          "name": "stdout",
          "text": [
            "Epoch: 67, Train loss: 0.5316, Train accuracy: 0.7389\n",
            "Epoch: 67, Val loss: 0.5383, Val accuracy: 0.7346\n",
            "Epoch 68/100\n"
          ]
        },
        {
          "output_type": "stream",
          "name": "stderr",
          "text": [
            "100%|██████████| 5447/5447 [00:48<00:00, 111.27it/s]\n"
          ]
        },
        {
          "output_type": "stream",
          "name": "stdout",
          "text": [
            "Epoch: 68, Train loss: 0.5317, Train accuracy: 0.7386\n",
            "Epoch: 68, Val loss: 0.5384, Val accuracy: 0.7344\n",
            "Epoch 69/100\n"
          ]
        },
        {
          "output_type": "stream",
          "name": "stderr",
          "text": [
            "100%|██████████| 5447/5447 [00:49<00:00, 110.12it/s]\n"
          ]
        },
        {
          "output_type": "stream",
          "name": "stdout",
          "text": [
            "Epoch: 69, Train loss: 0.5318, Train accuracy: 0.7383\n",
            "Epoch: 69, Val loss: 0.5385, Val accuracy: 0.7345\n",
            "Epoch 70/100\n"
          ]
        },
        {
          "output_type": "stream",
          "name": "stderr",
          "text": [
            "100%|██████████| 5447/5447 [00:50<00:00, 107.22it/s]\n"
          ]
        },
        {
          "output_type": "stream",
          "name": "stdout",
          "text": [
            "Epoch: 70, Train loss: 0.5318, Train accuracy: 0.7388\n",
            "Epoch: 70, Val loss: 0.5384, Val accuracy: 0.7345\n",
            "Epoch 71/100\n"
          ]
        },
        {
          "output_type": "stream",
          "name": "stderr",
          "text": [
            "100%|██████████| 5447/5447 [00:49<00:00, 108.96it/s]\n"
          ]
        },
        {
          "output_type": "stream",
          "name": "stdout",
          "text": [
            "Epoch: 71, Train loss: 0.5316, Train accuracy: 0.7388\n",
            "Epoch: 71, Val loss: 0.5385, Val accuracy: 0.7345\n",
            "Epoch 72/100\n"
          ]
        },
        {
          "output_type": "stream",
          "name": "stderr",
          "text": [
            "100%|██████████| 5447/5447 [00:50<00:00, 108.28it/s]\n"
          ]
        },
        {
          "output_type": "stream",
          "name": "stdout",
          "text": [
            "Epoch: 72, Train loss: 0.5320, Train accuracy: 0.7385\n",
            "Epoch: 72, Val loss: 0.5383, Val accuracy: 0.7344\n",
            "Epoch 73/100\n"
          ]
        },
        {
          "output_type": "stream",
          "name": "stderr",
          "text": [
            "100%|██████████| 5447/5447 [00:50<00:00, 108.87it/s]\n"
          ]
        },
        {
          "output_type": "stream",
          "name": "stdout",
          "text": [
            "Epoch: 73, Train loss: 0.5316, Train accuracy: 0.7384\n",
            "Epoch: 73, Val loss: 0.5389, Val accuracy: 0.7344\n",
            "Epoch 74/100\n"
          ]
        },
        {
          "output_type": "stream",
          "name": "stderr",
          "text": [
            "100%|██████████| 5447/5447 [00:48<00:00, 111.30it/s]\n"
          ]
        },
        {
          "output_type": "stream",
          "name": "stdout",
          "text": [
            "Epoch: 74, Train loss: 0.5317, Train accuracy: 0.7387\n",
            "Epoch: 74, Val loss: 0.5384, Val accuracy: 0.7344\n",
            "Epoch 75/100\n"
          ]
        },
        {
          "output_type": "stream",
          "name": "stderr",
          "text": [
            "100%|██████████| 5447/5447 [00:48<00:00, 111.65it/s]\n"
          ]
        },
        {
          "output_type": "stream",
          "name": "stdout",
          "text": [
            "Epoch: 75, Train loss: 0.5319, Train accuracy: 0.7385\n",
            "Epoch: 75, Val loss: 0.5386, Val accuracy: 0.7348\n",
            "Epoch 76/100\n"
          ]
        },
        {
          "output_type": "stream",
          "name": "stderr",
          "text": [
            "100%|██████████| 5447/5447 [00:48<00:00, 112.52it/s]\n"
          ]
        },
        {
          "output_type": "stream",
          "name": "stdout",
          "text": [
            "Epoch: 76, Train loss: 0.5320, Train accuracy: 0.7389\n",
            "Epoch: 76, Val loss: 0.5386, Val accuracy: 0.7347\n",
            "Epoch 77/100\n"
          ]
        },
        {
          "output_type": "stream",
          "name": "stderr",
          "text": [
            "100%|██████████| 5447/5447 [00:48<00:00, 112.57it/s]\n"
          ]
        },
        {
          "output_type": "stream",
          "name": "stdout",
          "text": [
            "Epoch: 77, Train loss: 0.5319, Train accuracy: 0.7387\n",
            "Epoch: 77, Val loss: 0.5384, Val accuracy: 0.7344\n",
            "Epoch 78/100\n"
          ]
        },
        {
          "output_type": "stream",
          "name": "stderr",
          "text": [
            "100%|██████████| 5447/5447 [00:48<00:00, 112.51it/s]\n"
          ]
        },
        {
          "output_type": "stream",
          "name": "stdout",
          "text": [
            "Epoch: 78, Train loss: 0.5315, Train accuracy: 0.7390\n",
            "Epoch: 78, Val loss: 0.5383, Val accuracy: 0.7344\n",
            "Epoch 79/100\n"
          ]
        },
        {
          "output_type": "stream",
          "name": "stderr",
          "text": [
            "100%|██████████| 5447/5447 [00:48<00:00, 112.36it/s]\n"
          ]
        },
        {
          "output_type": "stream",
          "name": "stdout",
          "text": [
            "Epoch: 79, Train loss: 0.5318, Train accuracy: 0.7385\n",
            "Epoch: 79, Val loss: 0.5382, Val accuracy: 0.7345\n",
            "Epoch 80/100\n"
          ]
        },
        {
          "output_type": "stream",
          "name": "stderr",
          "text": [
            "100%|██████████| 5447/5447 [00:48<00:00, 112.03it/s]\n"
          ]
        },
        {
          "output_type": "stream",
          "name": "stdout",
          "text": [
            "Epoch: 80, Train loss: 0.5319, Train accuracy: 0.7385\n",
            "Epoch: 80, Val loss: 0.5383, Val accuracy: 0.7344\n",
            "Epoch 81/100\n"
          ]
        },
        {
          "output_type": "stream",
          "name": "stderr",
          "text": [
            "100%|██████████| 5447/5447 [00:48<00:00, 112.16it/s]\n"
          ]
        },
        {
          "output_type": "stream",
          "name": "stdout",
          "text": [
            "Epoch: 81, Train loss: 0.5319, Train accuracy: 0.7384\n",
            "Epoch: 81, Val loss: 0.5384, Val accuracy: 0.7349\n",
            "Epoch 82/100\n"
          ]
        },
        {
          "output_type": "stream",
          "name": "stderr",
          "text": [
            "100%|██████████| 5447/5447 [00:48<00:00, 112.29it/s]\n"
          ]
        },
        {
          "output_type": "stream",
          "name": "stdout",
          "text": [
            "Epoch: 82, Train loss: 0.5317, Train accuracy: 0.7392\n",
            "Epoch: 82, Val loss: 0.5384, Val accuracy: 0.7345\n",
            "Epoch 83/100\n"
          ]
        },
        {
          "output_type": "stream",
          "name": "stderr",
          "text": [
            "100%|██████████| 5447/5447 [00:48<00:00, 112.22it/s]\n"
          ]
        },
        {
          "output_type": "stream",
          "name": "stdout",
          "text": [
            "Epoch: 83, Train loss: 0.5319, Train accuracy: 0.7388\n",
            "Epoch: 83, Val loss: 0.5383, Val accuracy: 0.7347\n",
            "Epoch 84/100\n"
          ]
        },
        {
          "output_type": "stream",
          "name": "stderr",
          "text": [
            "100%|██████████| 5447/5447 [00:48<00:00, 112.49it/s]\n"
          ]
        },
        {
          "output_type": "stream",
          "name": "stdout",
          "text": [
            "Epoch: 84, Train loss: 0.5318, Train accuracy: 0.7385\n",
            "Epoch: 84, Val loss: 0.5382, Val accuracy: 0.7345\n",
            "Epoch 85/100\n"
          ]
        },
        {
          "output_type": "stream",
          "name": "stderr",
          "text": [
            "100%|██████████| 5447/5447 [00:48<00:00, 112.61it/s]\n"
          ]
        },
        {
          "output_type": "stream",
          "name": "stdout",
          "text": [
            "Epoch: 85, Train loss: 0.5318, Train accuracy: 0.7386\n",
            "Epoch: 85, Val loss: 0.5382, Val accuracy: 0.7347\n",
            "Epoch 86/100\n"
          ]
        },
        {
          "output_type": "stream",
          "name": "stderr",
          "text": [
            "100%|██████████| 5447/5447 [00:48<00:00, 111.19it/s]\n"
          ]
        },
        {
          "output_type": "stream",
          "name": "stdout",
          "text": [
            "Epoch: 86, Train loss: 0.5315, Train accuracy: 0.7386\n",
            "Epoch: 86, Val loss: 0.5383, Val accuracy: 0.7347\n",
            "Epoch 87/100\n"
          ]
        },
        {
          "output_type": "stream",
          "name": "stderr",
          "text": [
            "100%|██████████| 5447/5447 [00:48<00:00, 111.89it/s]\n"
          ]
        },
        {
          "output_type": "stream",
          "name": "stdout",
          "text": [
            "Epoch: 87, Train loss: 0.5317, Train accuracy: 0.7385\n",
            "Epoch: 87, Val loss: 0.5386, Val accuracy: 0.7343\n",
            "Epoch 88/100\n"
          ]
        },
        {
          "output_type": "stream",
          "name": "stderr",
          "text": [
            "100%|██████████| 5447/5447 [00:48<00:00, 111.30it/s]\n"
          ]
        },
        {
          "output_type": "stream",
          "name": "stdout",
          "text": [
            "Epoch: 88, Train loss: 0.5319, Train accuracy: 0.7391\n",
            "Epoch: 88, Val loss: 0.5384, Val accuracy: 0.7345\n",
            "Epoch 89/100\n"
          ]
        },
        {
          "output_type": "stream",
          "name": "stderr",
          "text": [
            "100%|██████████| 5447/5447 [00:48<00:00, 112.30it/s]\n"
          ]
        },
        {
          "output_type": "stream",
          "name": "stdout",
          "text": [
            "Epoch: 89, Train loss: 0.5319, Train accuracy: 0.7384\n",
            "Epoch: 89, Val loss: 0.5383, Val accuracy: 0.7345\n",
            "Epoch 90/100\n"
          ]
        },
        {
          "output_type": "stream",
          "name": "stderr",
          "text": [
            "100%|██████████| 5447/5447 [00:48<00:00, 111.84it/s]\n"
          ]
        },
        {
          "output_type": "stream",
          "name": "stdout",
          "text": [
            "Epoch: 90, Train loss: 0.5317, Train accuracy: 0.7391\n",
            "Epoch: 90, Val loss: 0.5384, Val accuracy: 0.7348\n",
            "Epoch 91/100\n"
          ]
        },
        {
          "output_type": "stream",
          "name": "stderr",
          "text": [
            "100%|██████████| 5447/5447 [00:48<00:00, 112.25it/s]\n"
          ]
        },
        {
          "output_type": "stream",
          "name": "stdout",
          "text": [
            "Epoch: 91, Train loss: 0.5316, Train accuracy: 0.7391\n",
            "Epoch: 91, Val loss: 0.5386, Val accuracy: 0.7347\n",
            "Epoch 92/100\n"
          ]
        },
        {
          "output_type": "stream",
          "name": "stderr",
          "text": [
            "100%|██████████| 5447/5447 [00:48<00:00, 111.83it/s]\n"
          ]
        },
        {
          "output_type": "stream",
          "name": "stdout",
          "text": [
            "Epoch: 92, Train loss: 0.5319, Train accuracy: 0.7389\n",
            "Epoch: 92, Val loss: 0.5387, Val accuracy: 0.7344\n",
            "Epoch 93/100\n"
          ]
        },
        {
          "output_type": "stream",
          "name": "stderr",
          "text": [
            "100%|██████████| 5447/5447 [00:48<00:00, 112.30it/s]\n"
          ]
        },
        {
          "output_type": "stream",
          "name": "stdout",
          "text": [
            "Epoch: 93, Train loss: 0.5319, Train accuracy: 0.7385\n",
            "Epoch: 93, Val loss: 0.5383, Val accuracy: 0.7346\n",
            "Epoch 94/100\n"
          ]
        },
        {
          "output_type": "stream",
          "name": "stderr",
          "text": [
            "100%|██████████| 5447/5447 [00:48<00:00, 111.78it/s]\n"
          ]
        },
        {
          "output_type": "stream",
          "name": "stdout",
          "text": [
            "Epoch: 94, Train loss: 0.5314, Train accuracy: 0.7392\n",
            "Epoch: 94, Val loss: 0.5383, Val accuracy: 0.7342\n",
            "Epoch 95/100\n"
          ]
        },
        {
          "output_type": "stream",
          "name": "stderr",
          "text": [
            "100%|██████████| 5447/5447 [00:48<00:00, 111.94it/s]\n"
          ]
        },
        {
          "output_type": "stream",
          "name": "stdout",
          "text": [
            "Epoch: 95, Train loss: 0.5318, Train accuracy: 0.7387\n",
            "Epoch: 95, Val loss: 0.5383, Val accuracy: 0.7347\n",
            "Epoch 96/100\n"
          ]
        },
        {
          "output_type": "stream",
          "name": "stderr",
          "text": [
            "100%|██████████| 5447/5447 [00:48<00:00, 112.30it/s]\n"
          ]
        },
        {
          "output_type": "stream",
          "name": "stdout",
          "text": [
            "Epoch: 96, Train loss: 0.5319, Train accuracy: 0.7381\n",
            "Epoch: 96, Val loss: 0.5383, Val accuracy: 0.7348\n",
            "Epoch 97/100\n"
          ]
        },
        {
          "output_type": "stream",
          "name": "stderr",
          "text": [
            "100%|██████████| 5447/5447 [00:48<00:00, 112.28it/s]\n"
          ]
        },
        {
          "output_type": "stream",
          "name": "stdout",
          "text": [
            "Epoch: 97, Train loss: 0.5317, Train accuracy: 0.7388\n",
            "Epoch: 97, Val loss: 0.5382, Val accuracy: 0.7348\n",
            "Epoch 98/100\n"
          ]
        },
        {
          "output_type": "stream",
          "name": "stderr",
          "text": [
            "100%|██████████| 5447/5447 [00:48<00:00, 111.97it/s]\n"
          ]
        },
        {
          "output_type": "stream",
          "name": "stdout",
          "text": [
            "Epoch: 98, Train loss: 0.5319, Train accuracy: 0.7385\n",
            "Epoch: 98, Val loss: 0.5386, Val accuracy: 0.7346\n",
            "Epoch 99/100\n"
          ]
        },
        {
          "output_type": "stream",
          "name": "stderr",
          "text": [
            "100%|██████████| 5447/5447 [00:48<00:00, 112.16it/s]\n"
          ]
        },
        {
          "output_type": "stream",
          "name": "stdout",
          "text": [
            "Epoch: 99, Train loss: 0.5319, Train accuracy: 0.7386\n",
            "Epoch: 99, Val loss: 0.5383, Val accuracy: 0.7346\n",
            "Epoch 100/100\n"
          ]
        },
        {
          "output_type": "stream",
          "name": "stderr",
          "text": [
            "100%|██████████| 5447/5447 [00:48<00:00, 111.88it/s]\n"
          ]
        },
        {
          "output_type": "stream",
          "name": "stdout",
          "text": [
            "Epoch: 100, Train loss: 0.5315, Train accuracy: 0.7388\n",
            "Epoch: 100, Val loss: 0.5385, Val accuracy: 0.7348\n"
          ]
        }
      ]
    },
    {
      "cell_type": "code",
      "source": [
        "test_loss, accuracy, roc_auc, fpr, tpr = evaluate(model, device, test_loader)"
      ],
      "metadata": {
        "colab": {
          "base_uri": "https://localhost:8080/"
        },
        "id": "BjPajIG-xk85",
        "outputId": "9422cadb-ec3d-435c-b6ea-314ad24b9fdc"
      },
      "execution_count": 32,
      "outputs": [
        {
          "output_type": "stream",
          "name": "stdout",
          "text": [
            "Test set: Average loss: 0.5379\n",
            "Accuracy: 0.7362\n",
            "ROC AUC: 0.8044\n"
          ]
        }
      ]
    },
    {
      "cell_type": "code",
      "source": [
        "torch.save(model.state_dict(), \"resnet15_particle_classifier.pth\")"
      ],
      "metadata": {
        "id": "k8R9lfj7trhi"
      },
      "execution_count": 25,
      "outputs": []
    },
    {
      "cell_type": "code",
      "source": [
        "# Initialize model\n",
        "# device = torch.device(\"cuda\" if torch.cuda.is_available() else \"cpu\")\n",
        "# model = net.to(device)\n",
        "# model.load_state_dict(torch.load(\"resnet15_particle_classifier.pth\", map_location=device))\n",
        "# model.eval()"
      ],
      "metadata": {
        "id": "Q8mYRplyb1tM"
      },
      "execution_count": null,
      "outputs": []
    },
    {
      "cell_type": "code",
      "source": [
        "#@title Plot Loss curve\n",
        "plt.figure(figsize=(8, 6))\n",
        "epochs = range(1, len(train_loss) + 1)\n",
        "\n",
        "plt.plot(epochs, train_loss, color='#FF9A98', lw=2, label='Training Loss')\n",
        "plt.plot(epochs, val_loss, color='#98C1FF', lw=2, label='Validation Loss')\n",
        "\n",
        "# Styling\n",
        "plt.title('Training/Validation Loss', fontsize=14, pad=20)\n",
        "plt.xlabel('Epoch', fontsize=12, labelpad=10)\n",
        "plt.ylabel('Loss', fontsize=12, labelpad=10)\n",
        "plt.xlim(0.5, len(epochs) + 0.1)\n",
        "plt.legend(frameon=True, loc='upper right')\n",
        "plt.grid(True, alpha=0.3, ls='--')\n",
        "\n",
        "plt.savefig('loss_curves.png', dpi=300, bbox_inches='tight')\n",
        "plt.show()"
      ],
      "metadata": {
        "colab": {
          "base_uri": "https://localhost:8080/",
          "height": 597
        },
        "id": "f6lzApZg3lAs",
        "outputId": "6c304708-1176-4d19-8360-c30c831748ca"
      },
      "execution_count": 51,
      "outputs": [
        {
          "output_type": "display_data",
          "data": {
            "text/plain": [
              "<Figure size 800x600 with 1 Axes>"
            ],
            "image/png": "[encoded data removed]"
          },
          "metadata": {}
        }
      ]
    },
    {
      "cell_type": "code",
      "source": [
        "plt.figure(figsize=(8, 6))\n",
        "epochs = range(1, len(roc_scores) + 1)\n",
        "\n",
        "plt.plot(epochs, roc_scores, color='#FF9A98', lw=2, label='Validation AUC')\n",
        "\n",
        "# Styling\n",
        "plt.title('Validation AUC Score', fontsize=14, pad=20)\n",
        "plt.xlabel('Epoch', fontsize=12, labelpad=10)\n",
        "plt.ylabel('AUC', fontsize=12, labelpad=10)\n",
        "plt.xlim(0.5, len(epochs) + 0.1)\n",
        "plt.legend(frameon=True, loc='lower right')\n",
        "plt.grid(True, alpha=0.3, ls='--')\n",
        "\n",
        "plt.savefig('auc_curve.png', dpi=300, bbox_inches='tight')\n",
        "plt.show()"
      ],
      "metadata": {
        "colab": {
          "base_uri": "https://localhost:8080/",
          "height": 597
        },
        "id": "7gKAnGai_agv",
        "outputId": "1ef509e3-a355-45f3-a7cd-1ea1a605d31f"
      },
      "execution_count": 55,
      "outputs": [
        {
          "output_type": "display_data",
          "data": {
            "text/plain": [
              "<Figure size 800x600 with 1 Axes>"
            ],
            "image/png": "[encoded data removed]"
          },
          "metadata": {}
        }
      ]
    },
    {
      "cell_type": "code",
      "source": [
        "plt.figure(figsize=(8, 6))\n",
        "plt.plot(fpr, tpr, color='#FF9A98', lw=2, label=f'ROC Curve (AUC = {roc_auc:.2f})')\n",
        "plt.plot([0, 1], [0, 1], color='#444444', ls='--', lw=2, label='Random Baseline')\n",
        "\n",
        "# Style enhancements\n",
        "plt.xlim([-0.02, 1.02])\n",
        "plt.ylim([-0.02, 1.02])\n",
        "plt.xlabel('False Positive Rate', fontsize=12, labelpad=10)\n",
        "plt.ylabel('True Positive Rate', fontsize=12, labelpad=10)\n",
        "plt.title('ROC Curve', fontsize=14, pad=20)\n",
        "plt.legend(loc='lower right', frameon=True)\n",
        "plt.grid(True, alpha=0.3, ls='--')\n",
        "\n",
        "# Save and show\n",
        "plt.savefig('roc_curve.png', dpi=300, bbox_inches='tight')\n",
        "plt.show()"
      ],
      "metadata": {
        "colab": {
          "base_uri": "https://localhost:8080/",
          "height": 597
        },
        "id": "H4OCN5ira_LJ",
        "outputId": "66d64bd5-e61c-46d7-d25a-e67d0a379add"
      },
      "execution_count": 38,
      "outputs": [
        {
          "output_type": "display_data",
          "data": {
            "text/plain": [
              "<Figure size 800x600 with 1 Axes>"
            ],
            "image/png": "[encoded data removed]"
          },
          "metadata": {}
        }
      ]
    },
    {
      "cell_type": "markdown",
      "source": [
        "## Evaluating the model on a sample\n"
      ],
      "metadata": {
        "id": "ADkzmxjCyQI1"
      }
    },
    {
      "cell_type": "code",
      "source": [
        "# Download the best model weights (~Epoch 30)\n",
        "!gdown 1tV7p5oU6uDoWKYavzMcwqXrDxNtntSlH"
      ],
      "metadata": {
        "colab": {
          "base_uri": "https://localhost:8080/"
        },
        "id": "S73nulkadhSb",
        "outputId": "c48ff5d5-6613-4ad2-f454-c8150440ae8b"
      },
      "execution_count": 56,
      "outputs": [
        {
          "output_type": "stream",
          "name": "stdout",
          "text": [
            "Downloading...\n",
            "From: https://drive.google.com/uc?id=1tV7p5oU6uDoWKYavzMcwqXrDxNtntSlH\n",
            "To: /content/resnet15_particle_classifier_30.pth\n",
            "\r  0% 0.00/1.06M [00:00<?, ?B/s]\r 99% 1.05M/1.06M [00:00<00:00, 9.08MB/s]\r100% 1.06M/1.06M [00:00<00:00, 9.12MB/s]\n"
          ]
        }
      ]
    },
    {
      "cell_type": "code",
      "source": [
        "#@title ResNet\n",
        "class BasicBlock(nn.Module):\n",
        "\n",
        "    def __init__(self, in_channels, out_channels):\n",
        "        super().__init__()\n",
        "        self.downsample = out_channels//in_channels\n",
        "\n",
        "        self.conv1 = nn.Conv2d(in_channels, out_channels, kernel_size=3, stride=self.downsample, padding=1)\n",
        "        self.bn1 = nn.BatchNorm2d(out_channels)\n",
        "        self.relu = nn.ReLU(inplace=True)\n",
        "\n",
        "        self.conv2 = nn.Conv2d(out_channels, out_channels, kernel_size=3, padding=1)\n",
        "        self.bn2 = nn.BatchNorm2d(out_channels)\n",
        "        self.shortcut = nn.Conv2d(in_channels, out_channels, kernel_size=1, stride=self.downsample)\n",
        "\n",
        "    def forward(self, X):\n",
        "        Y = self.relu(self.bn1(self.conv1(X)))\n",
        "        Y = self.bn2(self.conv2(Y))\n",
        "\n",
        "        if self.downsample > 1:\n",
        "            X = self.shortcut(X)\n",
        "\n",
        "        Y = self.relu(Y + X)\n",
        "        return Y\n",
        "\n",
        "def block_layers(in_channels, out_channels, num_residuals):\n",
        "    layers = []\n",
        "    for _ in range(num_residuals):\n",
        "        layers.append(BasicBlock(in_channels, out_channels))\n",
        "    return nn.Sequential(*layers)\n",
        "\n",
        "b1 = nn.Sequential(nn.Conv2d(2, 32, kernel_size=5, stride=1, padding=1),\n",
        "                   nn.BatchNorm2d(32),\n",
        "                   nn.ReLU(),\n",
        "                   nn.MaxPool2d(kernel_size=2))\n",
        "\n",
        "b2 = block_layers(32, 32, 2)\n",
        "b3 = block_layers(32, 64, 1)\n",
        "b4 = block_layers(64, 64, 2)\n",
        "\n",
        "net = nn.Sequential(b1, b2, b3, b4,\n",
        "                    nn.Dropout(0.5),\n",
        "                    nn.AdaptiveAvgPool2d((1,1)),\n",
        "                    nn.Flatten(),\n",
        "                    nn.Linear(64, 1))\n"
      ],
      "metadata": {
        "cellView": "form",
        "id": "N4zrda80ye49"
      },
      "execution_count": 57,
      "outputs": []
    },
    {
      "cell_type": "code",
      "source": [
        "# Initialize model\n",
        "device = torch.device(\"cuda\" if torch.cuda.is_available() else \"cpu\")\n",
        "model = net.to(device)"
      ],
      "metadata": {
        "id": "mUCP2pUPyYMy"
      },
      "execution_count": 58,
      "outputs": []
    },
    {
      "cell_type": "code",
      "source": [
        "model.load_state_dict(torch.load(\"resnet15_particle_classifier_30.pth\", map_location=device))\n",
        "model.eval()"
      ],
      "metadata": {
        "id": "WevVGFfDyTOH",
        "colab": {
          "base_uri": "https://localhost:8080/"
        },
        "outputId": "5a8338c7-1f11-4c23-f84a-52009d28df15"
      },
      "execution_count": 59,
      "outputs": [
        {
          "output_type": "execute_result",
          "data": {
            "text/plain": [
              "Sequential(\n",
              "  (0): Sequential(\n",
              "    (0): Conv2d(2, 32, kernel_size=(5, 5), stride=(1, 1), padding=(1, 1))\n",
              "    (1): BatchNorm2d(32, eps=1e-05, momentum=0.1, affine=True, track_running_stats=True)\n",
              "    (2): ReLU()\n",
              "    (3): MaxPool2d(kernel_size=2, stride=2, padding=0, dilation=1, ceil_mode=False)\n",
              "  )\n",
              "  (1): Sequential(\n",
              "    (0): BasicBlock(\n",
              "      (conv1): Conv2d(32, 32, kernel_size=(3, 3), stride=(1, 1), padding=(1, 1))\n",
              "      (bn1): BatchNorm2d(32, eps=1e-05, momentum=0.1, affine=True, track_running_stats=True)\n",
              "      (relu): ReLU(inplace=True)\n",
              "      (conv2): Conv2d(32, 32, kernel_size=(3, 3), stride=(1, 1), padding=(1, 1))\n",
              "      (bn2): BatchNorm2d(32, eps=1e-05, momentum=0.1, affine=True, track_running_stats=True)\n",
              "      (shortcut): Conv2d(32, 32, kernel_size=(1, 1), stride=(1, 1))\n",
              "    )\n",
              "    (1): BasicBlock(\n",
              "      (conv1): Conv2d(32, 32, kernel_size=(3, 3), stride=(1, 1), padding=(1, 1))\n",
              "      (bn1): BatchNorm2d(32, eps=1e-05, momentum=0.1, affine=True, track_running_stats=True)\n",
              "      (relu): ReLU(inplace=True)\n",
              "      (conv2): Conv2d(32, 32, kernel_size=(3, 3), stride=(1, 1), padding=(1, 1))\n",
              "      (bn2): BatchNorm2d(32, eps=1e-05, momentum=0.1, affine=True, track_running_stats=True)\n",
              "      (shortcut): Conv2d(32, 32, kernel_size=(1, 1), stride=(1, 1))\n",
              "    )\n",
              "  )\n",
              "  (2): Sequential(\n",
              "    (0): BasicBlock(\n",
              "      (conv1): Conv2d(32, 64, kernel_size=(3, 3), stride=(2, 2), padding=(1, 1))\n",
              "      (bn1): BatchNorm2d(64, eps=1e-05, momentum=0.1, affine=True, track_running_stats=True)\n",
              "      (relu): ReLU(inplace=True)\n",
              "      (conv2): Conv2d(64, 64, kernel_size=(3, 3), stride=(1, 1), padding=(1, 1))\n",
              "      (bn2): BatchNorm2d(64, eps=1e-05, momentum=0.1, affine=True, track_running_stats=True)\n",
              "      (shortcut): Conv2d(32, 64, kernel_size=(1, 1), stride=(2, 2))\n",
              "    )\n",
              "  )\n",
              "  (3): Sequential(\n",
              "    (0): BasicBlock(\n",
              "      (conv1): Conv2d(64, 64, kernel_size=(3, 3), stride=(1, 1), padding=(1, 1))\n",
              "      (bn1): BatchNorm2d(64, eps=1e-05, momentum=0.1, affine=True, track_running_stats=True)\n",
              "      (relu): ReLU(inplace=True)\n",
              "      (conv2): Conv2d(64, 64, kernel_size=(3, 3), stride=(1, 1), padding=(1, 1))\n",
              "      (bn2): BatchNorm2d(64, eps=1e-05, momentum=0.1, affine=True, track_running_stats=True)\n",
              "      (shortcut): Conv2d(64, 64, kernel_size=(1, 1), stride=(1, 1))\n",
              "    )\n",
              "    (1): BasicBlock(\n",
              "      (conv1): Conv2d(64, 64, kernel_size=(3, 3), stride=(1, 1), padding=(1, 1))\n",
              "      (bn1): BatchNorm2d(64, eps=1e-05, momentum=0.1, affine=True, track_running_stats=True)\n",
              "      (relu): ReLU(inplace=True)\n",
              "      (conv2): Conv2d(64, 64, kernel_size=(3, 3), stride=(1, 1), padding=(1, 1))\n",
              "      (bn2): BatchNorm2d(64, eps=1e-05, momentum=0.1, affine=True, track_running_stats=True)\n",
              "      (shortcut): Conv2d(64, 64, kernel_size=(1, 1), stride=(1, 1))\n",
              "    )\n",
              "  )\n",
              "  (4): Dropout(p=0.5, inplace=False)\n",
              "  (5): AdaptiveAvgPool2d(output_size=(1, 1))\n",
              "  (6): Flatten(start_dim=1, end_dim=-1)\n",
              "  (7): Linear(in_features=64, out_features=1, bias=True)\n",
              ")"
            ]
          },
          "metadata": {},
          "execution_count": 59
        }
      ]
    },
    {
      "cell_type": "code",
      "source": [
        "inputs = torch.randn(1, 2, 32, 32).to(device)\n",
        "with torch.no_grad():\n",
        "  logits = model(inputs)\n",
        "  y_pred = torch.sigmoid(logits).cpu().item()\n",
        "y_pred"
      ],
      "metadata": {
        "colab": {
          "base_uri": "https://localhost:8080/"
        },
        "id": "JKIkXvBTyyBv",
        "outputId": "11e3225c-ad3f-499d-e24d-7c6111c8873c"
      },
      "execution_count": null,
      "outputs": [
        {
          "output_type": "execute_result",
          "data": {
            "text/plain": [
              "0.0"
            ]
          },
          "metadata": {},
          "execution_count": 28
        }
      ]
    }
  ]
}