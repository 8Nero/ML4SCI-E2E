{
  "nbformat": 4,
  "nbformat_minor": 0,
  "metadata": {
    "colab": {
      "provenance": [],
      "gpuType": "T4"
    },
    "kernelspec": {
      "name": "python3",
      "display_name": "Python 3"
    },
    "language_info": {
      "name": "python"
    },
    "accelerator": "GPU"
  },
  "cells": [
    {
      "cell_type": "markdown",
      "source": [
        "# Common Task 1. Electron/photon classification"
      ],
      "metadata": {
        "id": "W13GdyxnDvyn"
      }
    },
    {
      "cell_type": "code",
      "source": [
        "#@title Download the dataset\n",
        "!wget -O photons.hdf5 https://cernbox.cern.ch/remote.php/dav/public-files/AtBT8y4MiQYFcgc/SinglePhotonPt50_IMGCROPS_n249k_RHv1.hdf5\n",
        "!wget -O electrons.hdf5 https://cernbox.cern.ch/remote.php/dav/public-files/FbXw3V4XNyYB3oA/SingleElectronPt50_IMGCROPS_n249k_RHv1.hdf5"
      ],
      "metadata": {
        "colab": {
          "base_uri": "https://localhost:8080/"
        },
        "id": "DUNL6JmVDv8d",
        "outputId": "d1f188c0-94ef-4c63-fca1-a1de1b1b0487",
        "cellView": "form"
      },
      "execution_count": null,
      "outputs": [
        {
          "output_type": "stream",
          "name": "stdout",
          "text": [
            "--2025-03-17 14:49:11--  https://cernbox.cern.ch/remote.php/dav/public-files/AtBT8y4MiQYFcgc/SinglePhotonPt50_IMGCROPS_n249k_RHv1.hdf5\n",
            "Resolving cernbox.cern.ch (cernbox.cern.ch)... 128.142.53.35, 128.142.170.17, 137.138.120.151, ...\n",
            "Connecting to cernbox.cern.ch (cernbox.cern.ch)|128.142.53.35|:443... connected.\n",
            "HTTP request sent, awaiting response... 200 OK\n",
            "Length: 119703858 (114M) [application/octet-stream]\n",
            "Saving to: ‘photons.hdf5’\n",
            "\n",
            "photons.hdf5        100%[===================>] 114.16M  14.1MB/s    in 8.4s    \n",
            "\n",
            "2025-03-17 14:49:20 (13.5 MB/s) - ‘photons.hdf5’ saved [119703858/119703858]\n",
            "\n",
            "--2025-03-17 14:49:20--  https://cernbox.cern.ch/remote.php/dav/public-files/FbXw3V4XNyYB3oA/SingleElectronPt50_IMGCROPS_n249k_RHv1.hdf5\n",
            "Resolving cernbox.cern.ch (cernbox.cern.ch)... 128.142.53.35, 128.142.170.17, 137.138.120.151, ...\n",
            "Connecting to cernbox.cern.ch (cernbox.cern.ch)|128.142.53.35|:443... connected.\n",
            "HTTP request sent, awaiting response... 200 OK\n",
            "Length: 128927319 (123M) [application/octet-stream]\n",
            "Saving to: ‘electrons.hdf5’\n",
            "\n",
            "electrons.hdf5      100%[===================>] 122.95M  17.0MB/s    in 8.5s    \n",
            "\n",
            "2025-03-17 14:49:30 (14.4 MB/s) - ‘electrons.hdf5’ saved [128927319/128927319]\n",
            "\n"
          ]
        }
      ]
    },
    {
      "cell_type": "code",
      "source": [
        "#@title Load Dataset\n",
        "import h5py\n",
        "import numpy as np\n",
        "import matplotlib.pyplot as plt\n",
        "\n",
        "import torch\n",
        "import torch.nn as nn\n",
        "import torch.nn.functional as F\n",
        "import torch.optim as optim\n",
        "from torch.utils.data import DataLoader, TensorDataset, random_split\n",
        "from torchsummary import summary\n",
        "\n",
        "from sklearn.metrics import roc_curve, auc\n",
        "from tqdm import tqdm\n",
        "\n",
        "# Seeding\n",
        "np.random.seed(42)\n",
        "torch.manual_seed(42)\n",
        "torch.cuda.manual_seed(42)\n",
        "gen = torch.Generator().manual_seed(42)\n",
        "\n",
        "device = torch.device('cuda' if torch.cuda.is_available() else 'cpu')\n",
        "print(f\"Using device: {device}\")\n",
        "\n",
        "# The datasets fits into the RAM so I'll load them entirely\n",
        "f = h5py.File('photons.hdf5', 'r')\n",
        "p_x = f['X'][:]\n",
        "p_y = f['y'][:]\n",
        "\n",
        "f = h5py.File('electrons.hdf5', 'r')\n",
        "e_x = f['X'][:]\n",
        "e_y = f['y'][:]"
      ],
      "metadata": {
        "id": "ZbYz1iCKD_cO",
        "colab": {
          "base_uri": "https://localhost:8080/"
        },
        "outputId": "4cc98a73-f472-4a1d-f1dd-9a94ceccc4b3"
      },
      "execution_count": null,
      "outputs": [
        {
          "output_type": "stream",
          "name": "stdout",
          "text": [
            "Using device: cuda\n"
          ]
        }
      ]
    },
    {
      "cell_type": "code",
      "source": [
        "#@title Visualizing the data\n",
        "\n",
        "avg_p = np.mean(p_x, axis=0)\n",
        "avg_p_energy, avg_p_time = avg_p[..., 0], avg_p[..., 1]\n",
        "\n",
        "avg_e = np.mean(e_x, axis=0)\n",
        "avg_e_energy, avg_e_time = avg_e[..., 0], avg_e[..., 1]\n",
        "\n",
        "plt.figure(figsize=(8, 6))\n",
        "\n",
        "# Photon Plots (Top Row)\n",
        "plt.subplot(2, 2, 1)\n",
        "plt.imshow(avg_p_energy, cmap='viridis', vmin=0, vmax=np.max(avg_p_energy))\n",
        "plt.title('Average Hit Energy - Photons')\n",
        "plt.colorbar()\n",
        "\n",
        "plt.subplot(2, 2, 2)\n",
        "plt.imshow(avg_p_time, cmap='viridis', vmin=0, vmax=np.max(avg_p_time))\n",
        "plt.title('Average Time - Photons')\n",
        "plt.colorbar()\n",
        "\n",
        "# Electron Plots (Bottom Row)\n",
        "plt.subplot(2, 2, 3)\n",
        "plt.imshow(avg_e_energy, cmap='viridis', vmin=0, vmax=np.max(avg_e_energy))\n",
        "plt.title('Average Hit Energy - Electrons')\n",
        "plt.colorbar()\n",
        "\n",
        "plt.subplot(2, 2, 4)\n",
        "plt.imshow(avg_e_time, cmap='viridis', vmin=0, vmax=np.max(avg_e_time))\n",
        "plt.title('Average Time - Electrons')\n",
        "plt.colorbar()\n",
        "\n",
        "plt.tight_layout()\n",
        "plt.show()"
      ],
      "metadata": {
        "colab": {
          "base_uri": "https://localhost:8080/",
          "height": 607
        },
        "cellView": "form",
        "id": "tZmDE4QdXcvn",
        "outputId": "25cf0a0a-9d7b-480a-e572-4dbdd23589e8"
      },
      "execution_count": null,
      "outputs": [
        {
          "output_type": "display_data",
          "data": {
            "text/plain": [
              "<Figure size 800x600 with 8 Axes>"
            ],
            "image/png": "[encoded data removed]"
          },
          "metadata": {}
        }
      ]
    },
    {
      "cell_type": "markdown",
      "source": [
        "## Preprocessing"
      ],
      "metadata": {
        "id": "-Dr_imeyycLK"
      }
    },
    {
      "cell_type": "code",
      "source": [
        "# Combine data and create labels\n",
        "X = np.concatenate([p_x, e_x], axis=0)\n",
        "y = np.concatenate([p_y, e_y], axis=0)\n",
        "\n",
        "del p_x, e_x, p_y, e_y"
      ],
      "metadata": {
        "id": "jIH2fcZtgk_w"
      },
      "execution_count": null,
      "outputs": []
    },
    {
      "cell_type": "code",
      "source": [
        "# Create dataset\n",
        "X = torch.tensor(X, dtype=torch.float32).permute(0, 3, 1, 2)\n",
        "y = torch.tensor(y, dtype=torch.float32)\n",
        "dataset = TensorDataset(X, y)\n",
        "\n",
        "# Split dataset\n",
        "train_dataset, val_dataset, test_dataset = random_split(dataset, [0.7, 0.2, 0.1], generator=gen)"
      ],
      "metadata": {
        "id": "fBQUqIsfyaHH"
      },
      "execution_count": null,
      "outputs": []
    },
    {
      "cell_type": "code",
      "source": [
        "# Create dataloaders\n",
        "batch_size = 64\n",
        "train_loader = DataLoader(train_dataset, batch_size=batch_size, shuffle=True)\n",
        "val_loader = DataLoader(val_dataset, batch_size=batch_size, shuffle=False)\n",
        "test_loader = DataLoader(test_dataset, batch_size=batch_size, shuffle=False)"
      ],
      "metadata": {
        "id": "9Z_quN0k5fFG"
      },
      "execution_count": null,
      "outputs": []
    },
    {
      "cell_type": "markdown",
      "source": [
        "## Model Architecture\n",
        "The model architecture contains an initial 5x5 convolutional layer, 3 ResNet blocks, followed by a dropout layer and a fully-connected layer.\n",
        "\n",
        "Since the data sample is only 32x32 size, I used 5x5 kernel for the initial convolutional layer instead of the standard 7x7 kernel size.\n",
        "\n"
      ],
      "metadata": {
        "id": "uhXN8f4yye-u"
      }
    },
    {
      "cell_type": "code",
      "source": [
        "#@title ResNet\n",
        "class BasicBlock(nn.Module):\n",
        "\n",
        "    def __init__(self, in_channels, out_channels):\n",
        "        super().__init__()\n",
        "        self.downsample = out_channels//in_channels\n",
        "\n",
        "        self.conv1 = nn.Conv2d(in_channels, out_channels, kernel_size=3, stride=self.downsample, padding=1)\n",
        "        self.bn1 = nn.BatchNorm2d(out_channels)\n",
        "        self.relu = nn.ReLU(inplace=True)\n",
        "\n",
        "        self.conv2 = nn.Conv2d(out_channels, out_channels, kernel_size=3, padding=1)\n",
        "        self.bn2 = nn.BatchNorm2d(out_channels)\n",
        "        self.shortcut = nn.Conv2d(in_channels, out_channels, kernel_size=1, stride=self.downsample)\n",
        "\n",
        "    def forward(self, X):\n",
        "        Y = self.relu(self.bn1(self.conv1(X)))\n",
        "        Y = self.bn2(self.conv2(Y))\n",
        "\n",
        "        if self.downsample > 1:\n",
        "            X = self.shortcut(X)\n",
        "\n",
        "        Y = self.relu(Y + X)\n",
        "        return Y\n",
        "\n",
        "def block_layers(in_channels, out_channels, num_residuals):\n",
        "    layers = []\n",
        "    for _ in range(num_residuals):\n",
        "        layers.append(BasicBlock(in_channels, out_channels))\n",
        "    return nn.Sequential(*layers)\n",
        "\n",
        "b1 = nn.Sequential(nn.Conv2d(2, 32, kernel_size=5, stride=1, padding=1),\n",
        "                   nn.BatchNorm2d(32),\n",
        "                   nn.ReLU(),\n",
        "                   nn.MaxPool2d(kernel_size=2))\n",
        "\n",
        "b2 = block_layers(32, 32, 2)\n",
        "b3 = block_layers(32, 64, 1)\n",
        "b4 = block_layers(64, 64, 2)\n",
        "\n",
        "net = nn.Sequential(b1, b2, b3, b4,\n",
        "                    nn.Dropout(0.5),\n",
        "                    nn.AdaptiveAvgPool2d((1,1)),\n",
        "                    nn.Flatten(),\n",
        "                    nn.Linear(64, 1))\n",
        "model = net.to(device)\n",
        "summary(model, (2, 32, 32))"
      ],
      "metadata": {
        "id": "XMM4wzSbAn2f",
        "colab": {
          "base_uri": "https://localhost:8080/"
        },
        "outputId": "d4543236-6df5-429c-f4bf-7d9821063217"
      },
      "execution_count": null,
      "outputs": [
        {
          "output_type": "stream",
          "name": "stdout",
          "text": [
            "----------------------------------------------------------------\n",
            "        Layer (type)               Output Shape         Param #\n",
            "================================================================\n",
            "            Conv2d-1           [-1, 32, 30, 30]           1,632\n",
            "       BatchNorm2d-2           [-1, 32, 30, 30]              64\n",
            "              ReLU-3           [-1, 32, 30, 30]               0\n",
            "         MaxPool2d-4           [-1, 32, 15, 15]               0\n",
            "            Conv2d-5           [-1, 32, 15, 15]           9,248\n",
            "       BatchNorm2d-6           [-1, 32, 15, 15]              64\n",
            "              ReLU-7           [-1, 32, 15, 15]               0\n",
            "            Conv2d-8           [-1, 32, 15, 15]           9,248\n",
            "       BatchNorm2d-9           [-1, 32, 15, 15]              64\n",
            "             ReLU-10           [-1, 32, 15, 15]               0\n",
            "       BasicBlock-11           [-1, 32, 15, 15]               0\n",
            "           Conv2d-12           [-1, 32, 15, 15]           9,248\n",
            "      BatchNorm2d-13           [-1, 32, 15, 15]              64\n",
            "             ReLU-14           [-1, 32, 15, 15]               0\n",
            "           Conv2d-15           [-1, 32, 15, 15]           9,248\n",
            "      BatchNorm2d-16           [-1, 32, 15, 15]              64\n",
            "             ReLU-17           [-1, 32, 15, 15]               0\n",
            "       BasicBlock-18           [-1, 32, 15, 15]               0\n",
            "           Conv2d-19             [-1, 64, 8, 8]          18,496\n",
            "      BatchNorm2d-20             [-1, 64, 8, 8]             128\n",
            "             ReLU-21             [-1, 64, 8, 8]               0\n",
            "           Conv2d-22             [-1, 64, 8, 8]          36,928\n",
            "      BatchNorm2d-23             [-1, 64, 8, 8]             128\n",
            "           Conv2d-24             [-1, 64, 8, 8]           2,112\n",
            "             ReLU-25             [-1, 64, 8, 8]               0\n",
            "       BasicBlock-26             [-1, 64, 8, 8]               0\n",
            "           Conv2d-27             [-1, 64, 8, 8]          36,928\n",
            "      BatchNorm2d-28             [-1, 64, 8, 8]             128\n",
            "             ReLU-29             [-1, 64, 8, 8]               0\n",
            "           Conv2d-30             [-1, 64, 8, 8]          36,928\n",
            "      BatchNorm2d-31             [-1, 64, 8, 8]             128\n",
            "             ReLU-32             [-1, 64, 8, 8]               0\n",
            "       BasicBlock-33             [-1, 64, 8, 8]               0\n",
            "           Conv2d-34             [-1, 64, 8, 8]          36,928\n",
            "      BatchNorm2d-35             [-1, 64, 8, 8]             128\n",
            "             ReLU-36             [-1, 64, 8, 8]               0\n",
            "           Conv2d-37             [-1, 64, 8, 8]          36,928\n",
            "      BatchNorm2d-38             [-1, 64, 8, 8]             128\n",
            "             ReLU-39             [-1, 64, 8, 8]               0\n",
            "       BasicBlock-40             [-1, 64, 8, 8]               0\n",
            "          Dropout-41             [-1, 64, 8, 8]               0\n",
            "AdaptiveAvgPool2d-42             [-1, 64, 1, 1]               0\n",
            "          Flatten-43                   [-1, 64]               0\n",
            "           Linear-44                    [-1, 1]              65\n",
            "================================================================\n",
            "Total params: 245,025\n",
            "Trainable params: 245,025\n",
            "Non-trainable params: 0\n",
            "----------------------------------------------------------------\n",
            "Input size (MB): 0.01\n",
            "Forward/backward pass size (MB): 2.20\n",
            "Params size (MB): 0.93\n",
            "Estimated Total Size (MB): 3.15\n",
            "----------------------------------------------------------------\n"
          ]
        }
      ]
    },
    {
      "cell_type": "markdown",
      "source": [
        "## Training Setup\n",
        "\n"
      ],
      "metadata": {
        "id": "MJwY1ORXyimf"
      }
    },
    {
      "cell_type": "code",
      "source": [
        "def evaluate(model, device, data_loader, show=True):\n",
        "    test_loss, accuracy = 0.0, 0.0\n",
        "    predictions, targets = [], []\n",
        "\n",
        "    model.eval()\n",
        "    with torch.no_grad():\n",
        "      for X, y in data_loader:\n",
        "        X, y = X.to(device), y.to(device)\n",
        "        logits = model(X).squeeze()\n",
        "        test_loss += F.binary_cross_entropy_with_logits(logits, y).item()\n",
        "        pred = logits.ge(0.).byte()\n",
        "        accuracy += pred.eq(y.byte()).float().mean().item()\n",
        "\n",
        "        y_pred = torch.sigmoid(logits)\n",
        "\n",
        "        predictions.append(y_pred.tolist())\n",
        "        targets.append(y.tolist())\n",
        "\n",
        "    # Compute ROC score\n",
        "    predictions = np.concatenate(predictions)\n",
        "    targets = np.concatenate(targets)\n",
        "    fpr, tpr, _ = roc_curve(targets, predictions)\n",
        "    roc_auc = auc(fpr, tpr)\n",
        "\n",
        "    test_loss /= len(data_loader)\n",
        "    accuracy /= len(data_loader)\n",
        "    if show:\n",
        "        print(f'Test set: Average loss: {test_loss:.4f}\\nAccuracy: {accuracy:.4f}\\nROC AUC: {roc_auc:.4f}')\n",
        "    return test_loss, accuracy, roc_auc, fpr, tpr"
      ],
      "metadata": {
        "id": "T0Rqk7eOlDlb"
      },
      "execution_count": null,
      "outputs": []
    },
    {
      "cell_type": "code",
      "source": [
        "def train(model, device, data_loader, val_loader, num_epochs):\n",
        "    train_loss, train_acc = [], []\n",
        "    val_loss, val_acc, roc_scores = [], [], []\n",
        "\n",
        "    for epoch in range(1, num_epochs+1):\n",
        "      print(f\"Epoch {epoch}/{num_epochs}\")\n",
        "\n",
        "      epoch_loss, epoch_acc = 0, 0\n",
        "      model.train()\n",
        "      for data in tqdm(data_loader, total=len(data_loader)):\n",
        "          X, y = data[0].to(device), data[1].to(device)\n",
        "          optimizer.zero_grad()\n",
        "          y_pred = model(X).squeeze()\n",
        "          loss = F.binary_cross_entropy_with_logits(y_pred, y)\n",
        "          loss.backward()\n",
        "          optimizer.step()\n",
        "\n",
        "          epoch_loss += loss.item()\n",
        "\n",
        "          pred = y_pred.ge(0.).byte()\n",
        "          acc = pred.eq(y.byte()).float().mean()\n",
        "          epoch_acc += acc.item()\n",
        "\n",
        "      train_loss.append(epoch_loss/len(data_loader))\n",
        "      train_acc.append(epoch_acc/len(data_loader))\n",
        "      print('Epoch: {}, Train loss: {:.4f}, Train accuracy: {:.4f}'.format(epoch, train_loss[epoch-1], train_acc[epoch-1]))\n",
        "\n",
        "      # Validation\n",
        "      val_loss_epoch, val_acc_epoch, roc_score, _, _ = evaluate(model, device, val_loader, show=False)\n",
        "      val_loss.append(val_loss_epoch)\n",
        "      val_acc.append(val_acc_epoch)\n",
        "      roc_scores.append(roc_score)\n",
        "      print('Epoch: {}, Val loss: {:.4f}, Val accuracy: {:.4f}'.format(epoch, val_loss[epoch-1], val_acc[epoch-1]))\n",
        "\n",
        "      scheduler.step(val_loss_epoch)\n",
        "\n",
        "    return train_loss, train_acc, val_loss, val_acc, roc_scores"
      ],
      "metadata": {
        "id": "9cRt7zPIhp8X"
      },
      "execution_count": null,
      "outputs": []
    },
    {
      "cell_type": "code",
      "source": [
        "# Initialize\n",
        "lr = 1e-3\n",
        "weight_decay = 1e-4\n",
        "\n",
        "model = net.to(device)\n",
        "optimizer = optim.Adam(model.parameters(), lr=lr, weight_decay=weight_decay)\n",
        "scheduler = optim.lr_scheduler.ReduceLROnPlateau(optimizer, 'min', patience=3)"
      ],
      "metadata": {
        "id": "lLCX3hjinm5T"
      },
      "execution_count": null,
      "outputs": []
    },
    {
      "cell_type": "markdown",
      "source": [
        "## Training Loop"
      ],
      "metadata": {
        "id": "fABe6W8L3vJl"
      }
    },
    {
      "cell_type": "code",
      "source": [
        "train_loss, train_acc, val_loss, val_acc, roc_scores = train(model, device, data_loader=train_loader, val_loader=val_loader, num_epochs=30)"
      ],
      "metadata": {
        "colab": {
          "base_uri": "https://localhost:8080/"
        },
        "id": "ejV_6MHlalas",
        "outputId": "ca027e52-6c0d-4ed9-c9f2-70d64a4aacbf"
      },
      "execution_count": null,
      "outputs": [
        {
          "output_type": "stream",
          "name": "stdout",
          "text": [
            "Epoch 1/30\n"
          ]
        },
        {
          "output_type": "stream",
          "name": "stderr",
          "text": [
            "100%|██████████| 5447/5447 [00:47<00:00, 114.08it/s]\n"
          ]
        },
        {
          "output_type": "stream",
          "name": "stdout",
          "text": [
            "Epoch: 1, Train loss: 0.6244, Train accuracy: 0.6547\n",
            "Epoch: 1, Val loss: 0.6932, Val accuracy: 0.5800\n",
            "Epoch 2/30\n"
          ]
        },
        {
          "output_type": "stream",
          "name": "stderr",
          "text": [
            "100%|██████████| 5447/5447 [00:47<00:00, 113.52it/s]\n"
          ]
        },
        {
          "output_type": "stream",
          "name": "stdout",
          "text": [
            "Epoch: 2, Train loss: 0.5856, Train accuracy: 0.6993\n",
            "Epoch: 2, Val loss: 0.5788, Val accuracy: 0.7049\n",
            "Epoch 3/30\n"
          ]
        },
        {
          "output_type": "stream",
          "name": "stderr",
          "text": [
            "100%|██████████| 5447/5447 [00:47<00:00, 114.46it/s]\n"
          ]
        },
        {
          "output_type": "stream",
          "name": "stdout",
          "text": [
            "Epoch: 3, Train loss: 0.5761, Train accuracy: 0.7068\n",
            "Epoch: 3, Val loss: 0.5765, Val accuracy: 0.7098\n",
            "Epoch 4/30\n"
          ]
        },
        {
          "output_type": "stream",
          "name": "stderr",
          "text": [
            "100%|██████████| 5447/5447 [00:47<00:00, 114.25it/s]\n"
          ]
        },
        {
          "output_type": "stream",
          "name": "stdout",
          "text": [
            "Epoch: 4, Train loss: 0.5713, Train accuracy: 0.7109\n",
            "Epoch: 4, Val loss: 0.5862, Val accuracy: 0.6993\n",
            "Epoch 5/30\n"
          ]
        },
        {
          "output_type": "stream",
          "name": "stderr",
          "text": [
            "100%|██████████| 5447/5447 [00:47<00:00, 114.45it/s]\n"
          ]
        },
        {
          "output_type": "stream",
          "name": "stdout",
          "text": [
            "Epoch: 5, Train loss: 0.5680, Train accuracy: 0.7134\n",
            "Epoch: 5, Val loss: 0.6759, Val accuracy: 0.5826\n",
            "Epoch 6/30\n"
          ]
        },
        {
          "output_type": "stream",
          "name": "stderr",
          "text": [
            "100%|██████████| 5447/5447 [00:47<00:00, 114.35it/s]\n"
          ]
        },
        {
          "output_type": "stream",
          "name": "stdout",
          "text": [
            "Epoch: 6, Train loss: 0.5655, Train accuracy: 0.7155\n",
            "Epoch: 6, Val loss: 0.9364, Val accuracy: 0.5101\n",
            "Epoch 7/30\n"
          ]
        },
        {
          "output_type": "stream",
          "name": "stderr",
          "text": [
            "100%|██████████| 5447/5447 [00:47<00:00, 114.44it/s]\n"
          ]
        },
        {
          "output_type": "stream",
          "name": "stdout",
          "text": [
            "Epoch: 7, Train loss: 0.5637, Train accuracy: 0.7164\n",
            "Epoch: 7, Val loss: 0.7211, Val accuracy: 0.5618\n",
            "Epoch 8/30\n"
          ]
        },
        {
          "output_type": "stream",
          "name": "stderr",
          "text": [
            "100%|██████████| 5447/5447 [00:47<00:00, 113.76it/s]\n"
          ]
        },
        {
          "output_type": "stream",
          "name": "stdout",
          "text": [
            "Epoch: 8, Train loss: 0.5520, Train accuracy: 0.7263\n",
            "Epoch: 8, Val loss: 0.5496, Val accuracy: 0.7272\n",
            "Epoch 9/30\n"
          ]
        },
        {
          "output_type": "stream",
          "name": "stderr",
          "text": [
            "100%|██████████| 5447/5447 [00:47<00:00, 114.38it/s]\n"
          ]
        },
        {
          "output_type": "stream",
          "name": "stdout",
          "text": [
            "Epoch: 9, Train loss: 0.5491, Train accuracy: 0.7284\n",
            "Epoch: 9, Val loss: 0.5474, Val accuracy: 0.7300\n",
            "Epoch 10/30\n"
          ]
        },
        {
          "output_type": "stream",
          "name": "stderr",
          "text": [
            "100%|██████████| 5447/5447 [00:47<00:00, 114.36it/s]\n"
          ]
        },
        {
          "output_type": "stream",
          "name": "stdout",
          "text": [
            "Epoch: 10, Train loss: 0.5478, Train accuracy: 0.7294\n",
            "Epoch: 10, Val loss: 0.5461, Val accuracy: 0.7301\n",
            "Epoch 11/30\n"
          ]
        },
        {
          "output_type": "stream",
          "name": "stderr",
          "text": [
            "100%|██████████| 5447/5447 [00:47<00:00, 114.18it/s]\n"
          ]
        },
        {
          "output_type": "stream",
          "name": "stdout",
          "text": [
            "Epoch: 11, Train loss: 0.5469, Train accuracy: 0.7300\n",
            "Epoch: 11, Val loss: 0.5458, Val accuracy: 0.7300\n",
            "Epoch 12/30\n"
          ]
        },
        {
          "output_type": "stream",
          "name": "stderr",
          "text": [
            "100%|██████████| 5447/5447 [00:47<00:00, 114.18it/s]\n"
          ]
        },
        {
          "output_type": "stream",
          "name": "stdout",
          "text": [
            "Epoch: 12, Train loss: 0.5461, Train accuracy: 0.7304\n",
            "Epoch: 12, Val loss: 0.5445, Val accuracy: 0.7310\n",
            "Epoch 13/30\n"
          ]
        },
        {
          "output_type": "stream",
          "name": "stderr",
          "text": [
            "100%|██████████| 5447/5447 [00:47<00:00, 114.19it/s]\n"
          ]
        },
        {
          "output_type": "stream",
          "name": "stdout",
          "text": [
            "Epoch: 13, Train loss: 0.5455, Train accuracy: 0.7305\n",
            "Epoch: 13, Val loss: 0.5456, Val accuracy: 0.7297\n",
            "Epoch 14/30\n"
          ]
        },
        {
          "output_type": "stream",
          "name": "stderr",
          "text": [
            "100%|██████████| 5447/5447 [00:47<00:00, 114.43it/s]\n"
          ]
        },
        {
          "output_type": "stream",
          "name": "stdout",
          "text": [
            "Epoch: 14, Train loss: 0.5447, Train accuracy: 0.7315\n",
            "Epoch: 14, Val loss: 0.5438, Val accuracy: 0.7314\n",
            "Epoch 15/30\n"
          ]
        },
        {
          "output_type": "stream",
          "name": "stderr",
          "text": [
            "100%|██████████| 5447/5447 [00:47<00:00, 114.12it/s]\n"
          ]
        },
        {
          "output_type": "stream",
          "name": "stdout",
          "text": [
            "Epoch: 15, Train loss: 0.5444, Train accuracy: 0.7313\n",
            "Epoch: 15, Val loss: 0.5439, Val accuracy: 0.7312\n",
            "Epoch 16/30\n"
          ]
        },
        {
          "output_type": "stream",
          "name": "stderr",
          "text": [
            "100%|██████████| 5447/5447 [00:47<00:00, 114.30it/s]\n"
          ]
        },
        {
          "output_type": "stream",
          "name": "stdout",
          "text": [
            "Epoch: 16, Train loss: 0.5437, Train accuracy: 0.7319\n",
            "Epoch: 16, Val loss: 0.5463, Val accuracy: 0.7311\n",
            "Epoch 17/30\n"
          ]
        },
        {
          "output_type": "stream",
          "name": "stderr",
          "text": [
            "100%|██████████| 5447/5447 [00:47<00:00, 113.97it/s]\n"
          ]
        },
        {
          "output_type": "stream",
          "name": "stdout",
          "text": [
            "Epoch: 17, Train loss: 0.5432, Train accuracy: 0.7322\n",
            "Epoch: 17, Val loss: 0.5455, Val accuracy: 0.7303\n",
            "Epoch 18/30\n"
          ]
        },
        {
          "output_type": "stream",
          "name": "stderr",
          "text": [
            "100%|██████████| 5447/5447 [00:47<00:00, 114.99it/s]\n"
          ]
        },
        {
          "output_type": "stream",
          "name": "stdout",
          "text": [
            "Epoch: 18, Train loss: 0.5426, Train accuracy: 0.7326\n",
            "Epoch: 18, Val loss: 0.5433, Val accuracy: 0.7319\n",
            "Epoch 19/30\n"
          ]
        },
        {
          "output_type": "stream",
          "name": "stderr",
          "text": [
            "100%|██████████| 5447/5447 [00:47<00:00, 114.25it/s]\n"
          ]
        },
        {
          "output_type": "stream",
          "name": "stdout",
          "text": [
            "Epoch: 19, Train loss: 0.5422, Train accuracy: 0.7331\n",
            "Epoch: 19, Val loss: 0.5443, Val accuracy: 0.7296\n",
            "Epoch 20/30\n"
          ]
        },
        {
          "output_type": "stream",
          "name": "stderr",
          "text": [
            "100%|██████████| 5447/5447 [00:47<00:00, 114.53it/s]\n"
          ]
        },
        {
          "output_type": "stream",
          "name": "stdout",
          "text": [
            "Epoch: 20, Train loss: 0.5417, Train accuracy: 0.7333\n",
            "Epoch: 20, Val loss: 0.5433, Val accuracy: 0.7326\n",
            "Epoch 21/30\n"
          ]
        },
        {
          "output_type": "stream",
          "name": "stderr",
          "text": [
            "100%|██████████| 5447/5447 [00:47<00:00, 114.39it/s]\n"
          ]
        },
        {
          "output_type": "stream",
          "name": "stdout",
          "text": [
            "Epoch: 21, Train loss: 0.5412, Train accuracy: 0.7333\n",
            "Epoch: 21, Val loss: 0.5450, Val accuracy: 0.7315\n",
            "Epoch 22/30\n"
          ]
        },
        {
          "output_type": "stream",
          "name": "stderr",
          "text": [
            "100%|██████████| 5447/5447 [00:47<00:00, 114.72it/s]\n"
          ]
        },
        {
          "output_type": "stream",
          "name": "stdout",
          "text": [
            "Epoch: 22, Train loss: 0.5409, Train accuracy: 0.7339\n",
            "Epoch: 22, Val loss: 0.5424, Val accuracy: 0.7325\n",
            "Epoch 23/30\n"
          ]
        },
        {
          "output_type": "stream",
          "name": "stderr",
          "text": [
            "100%|██████████| 5447/5447 [00:47<00:00, 114.71it/s]\n"
          ]
        },
        {
          "output_type": "stream",
          "name": "stdout",
          "text": [
            "Epoch: 23, Train loss: 0.5406, Train accuracy: 0.7339\n",
            "Epoch: 23, Val loss: 0.5448, Val accuracy: 0.7299\n",
            "Epoch 24/30\n"
          ]
        },
        {
          "output_type": "stream",
          "name": "stderr",
          "text": [
            "100%|██████████| 5447/5447 [00:47<00:00, 114.90it/s]\n"
          ]
        },
        {
          "output_type": "stream",
          "name": "stdout",
          "text": [
            "Epoch: 24, Train loss: 0.5403, Train accuracy: 0.7336\n",
            "Epoch: 24, Val loss: 0.5429, Val accuracy: 0.7319\n",
            "Epoch 25/30\n"
          ]
        },
        {
          "output_type": "stream",
          "name": "stderr",
          "text": [
            "100%|██████████| 5447/5447 [00:47<00:00, 113.60it/s]\n"
          ]
        },
        {
          "output_type": "stream",
          "name": "stdout",
          "text": [
            "Epoch: 25, Train loss: 0.5399, Train accuracy: 0.7339\n",
            "Epoch: 25, Val loss: 0.5433, Val accuracy: 0.7317\n",
            "Epoch 26/30\n"
          ]
        },
        {
          "output_type": "stream",
          "name": "stderr",
          "text": [
            "100%|██████████| 5447/5447 [00:47<00:00, 114.74it/s]\n"
          ]
        },
        {
          "output_type": "stream",
          "name": "stdout",
          "text": [
            "Epoch: 26, Train loss: 0.5397, Train accuracy: 0.7346\n",
            "Epoch: 26, Val loss: 0.5431, Val accuracy: 0.7314\n",
            "Epoch 27/30\n"
          ]
        },
        {
          "output_type": "stream",
          "name": "stderr",
          "text": [
            "100%|██████████| 5447/5447 [00:47<00:00, 114.38it/s]\n"
          ]
        },
        {
          "output_type": "stream",
          "name": "stdout",
          "text": [
            "Epoch: 27, Train loss: 0.5361, Train accuracy: 0.7366\n",
            "Epoch: 27, Val loss: 0.5400, Val accuracy: 0.7340\n",
            "Epoch 28/30\n"
          ]
        },
        {
          "output_type": "stream",
          "name": "stderr",
          "text": [
            "100%|██████████| 5447/5447 [00:47<00:00, 114.26it/s]\n"
          ]
        },
        {
          "output_type": "stream",
          "name": "stdout",
          "text": [
            "Epoch: 28, Train loss: 0.5357, Train accuracy: 0.7364\n",
            "Epoch: 28, Val loss: 0.5400, Val accuracy: 0.7343\n",
            "Epoch 29/30\n"
          ]
        },
        {
          "output_type": "stream",
          "name": "stderr",
          "text": [
            "100%|██████████| 5447/5447 [00:47<00:00, 113.82it/s]\n"
          ]
        },
        {
          "output_type": "stream",
          "name": "stdout",
          "text": [
            "Epoch: 29, Train loss: 0.5352, Train accuracy: 0.7370\n",
            "Epoch: 29, Val loss: 0.5401, Val accuracy: 0.7339\n",
            "Epoch 30/30\n"
          ]
        },
        {
          "output_type": "stream",
          "name": "stderr",
          "text": [
            "100%|██████████| 5447/5447 [00:47<00:00, 114.87it/s]\n"
          ]
        },
        {
          "output_type": "stream",
          "name": "stdout",
          "text": [
            "Epoch: 30, Train loss: 0.5352, Train accuracy: 0.7371\n",
            "Epoch: 30, Val loss: 0.5404, Val accuracy: 0.7342\n"
          ]
        }
      ]
    },
    {
      "cell_type": "code",
      "source": [
        "test_loss, accuracy, roc_auc, fpr, tpr = evaluate(model, device, test_loader)"
      ],
      "metadata": {
        "colab": {
          "base_uri": "https://localhost:8080/"
        },
        "id": "BjPajIG-xk85",
        "outputId": "b38e4848-b333-4dfd-9ebf-f6cf10a1c3a9"
      },
      "execution_count": null,
      "outputs": [
        {
          "output_type": "stream",
          "name": "stdout",
          "text": [
            "Test set: Average loss: 0.5401\n",
            "Accuracy: 0.7335\n",
            "ROC AUC: 0.8025\n"
          ]
        }
      ]
    },
    {
      "cell_type": "code",
      "source": [
        "torch.save(model.state_dict(), \"resnet15_particle_classifier.pth\")"
      ],
      "metadata": {
        "id": "k8R9lfj7trhi"
      },
      "execution_count": null,
      "outputs": []
    },
    {
      "cell_type": "code",
      "source": [
        "# Plot loss curves\n",
        "plt.plot(train_loss, label='Train Loss')\n",
        "plt.plot(val_loss, label='Validation Loss')\n",
        "plt.xlabel('Epoch')\n",
        "plt.ylabel('Loss')\n",
        "plt.legend()\n",
        "plt.show()"
      ],
      "metadata": {
        "colab": {
          "base_uri": "https://localhost:8080/",
          "height": 449
        },
        "id": "f6lzApZg3lAs",
        "outputId": "13e50d15-de82-4358-c47f-86b84c03503d"
      },
      "execution_count": null,
      "outputs": [
        {
          "output_type": "display_data",
          "data": {
            "text/plain": [
              "<Figure size 640x480 with 1 Axes>"
            ],
            "image/png": "[encoded data removed]"
          },
          "metadata": {}
        }
      ]
    },
    {
      "cell_type": "code",
      "source": [
        "plt.plot(roc_scores)\n",
        "plt.xlabel('Epoch')\n",
        "plt.ylabel('ROC AUC')\n",
        "plt.show()"
      ],
      "metadata": {
        "colab": {
          "base_uri": "https://localhost:8080/",
          "height": 449
        },
        "id": "7gKAnGai_agv",
        "outputId": "cec28ed0-bc10-4806-eac7-1ee99767a654"
      },
      "execution_count": null,
      "outputs": [
        {
          "output_type": "display_data",
          "data": {
            "text/plain": [
              "<Figure size 640x480 with 1 Axes>"
            ],
            "image/png": "[encoded data removed]"
          },
          "metadata": {}
        }
      ]
    },
    {
      "cell_type": "markdown",
      "source": [
        "## Evaluating the model on a sample\n"
      ],
      "metadata": {
        "id": "ADkzmxjCyQI1"
      }
    },
    {
      "cell_type": "code",
      "source": [
        "#@title ResNet\n",
        "class BasicBlock(nn.Module):\n",
        "\n",
        "    def __init__(self, in_channels, out_channels):\n",
        "        super().__init__()\n",
        "        self.downsample = out_channels//in_channels\n",
        "\n",
        "        self.conv1 = nn.Conv2d(in_channels, out_channels, kernel_size=3, stride=self.downsample, padding=1)\n",
        "        self.bn1 = nn.BatchNorm2d(out_channels)\n",
        "        self.relu = nn.ReLU(inplace=True)\n",
        "\n",
        "        self.conv2 = nn.Conv2d(out_channels, out_channels, kernel_size=3, padding=1)\n",
        "        self.bn2 = nn.BatchNorm2d(out_channels)\n",
        "        self.shortcut = nn.Conv2d(in_channels, out_channels, kernel_size=1, stride=self.downsample)\n",
        "\n",
        "    def forward(self, X):\n",
        "        Y = self.relu(self.bn1(self.conv1(X)))\n",
        "        Y = self.bn2(self.conv2(Y))\n",
        "\n",
        "        if self.downsample > 1:\n",
        "            X = self.shortcut(X)\n",
        "\n",
        "        Y = self.relu(Y + X)\n",
        "        return Y\n",
        "\n",
        "def block_layers(in_channels, out_channels, num_residuals):\n",
        "    layers = []\n",
        "    for _ in range(num_residuals):\n",
        "        layers.append(BasicBlock(in_channels, out_channels))\n",
        "    return nn.Sequential(*layers)\n",
        "\n",
        "b1 = nn.Sequential(nn.Conv2d(2, 32, kernel_size=5, stride=1, padding=1),\n",
        "                   nn.BatchNorm2d(32),\n",
        "                   nn.ReLU(),\n",
        "                   nn.MaxPool2d(kernel_size=2))\n",
        "\n",
        "b2 = block_layers(32, 32, 2)\n",
        "b3 = block_layers(32, 64, 1)\n",
        "b4 = block_layers(64, 64, 2)\n",
        "\n",
        "net = nn.Sequential(b1, b2, b3, b4,\n",
        "                    nn.Dropout(0.5),\n",
        "                    nn.AdaptiveAvgPool2d((1,1)),\n",
        "                    nn.Flatten(),\n",
        "                    nn.Linear(64, 1))\n"
      ],
      "metadata": {
        "cellView": "form",
        "id": "N4zrda80ye49"
      },
      "execution_count": null,
      "outputs": []
    },
    {
      "cell_type": "code",
      "source": [
        "# Initialize model\n",
        "device = torch.device(\"cuda\" if torch.cuda.is_available() else \"cpu\")\n",
        "model = net.to(device)"
      ],
      "metadata": {
        "id": "mUCP2pUPyYMy"
      },
      "execution_count": null,
      "outputs": []
    },
    {
      "cell_type": "code",
      "source": [
        "model.load_state_dict(torch.load(\"resnet15_particle_classifier.pth\", map_location=device))\n",
        "model.eval()"
      ],
      "metadata": {
        "id": "WevVGFfDyTOH"
      },
      "execution_count": null,
      "outputs": []
    },
    {
      "cell_type": "code",
      "source": [
        "inputs = torch.randn(1, 2, 32, 32).to(device)\n",
        "with torch.no_grad():\n",
        "  logits = model(inputs)\n",
        "  y_pred = torch.sigmoid(logits).cpu().item()\n",
        "y_pred"
      ],
      "metadata": {
        "colab": {
          "base_uri": "https://localhost:8080/"
        },
        "id": "JKIkXvBTyyBv",
        "outputId": "11e3225c-ad3f-499d-e24d-7c6111c8873c"
      },
      "execution_count": null,
      "outputs": [
        {
          "output_type": "execute_result",
          "data": {
            "text/plain": [
              "0.0"
            ]
          },
          "metadata": {},
          "execution_count": 28
        }
      ]
    }
  ]
}